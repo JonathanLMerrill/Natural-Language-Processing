{
 "cells": [
  {
   "cell_type": "code",
   "execution_count": 1,
   "metadata": {},
   "outputs": [
    {
     "name": "stderr",
     "output_type": "stream",
     "text": [
      "[nltk_data] Downloading package cmudict to\n",
      "[nltk_data]     C:\\Users\\rober\\AppData\\Roaming\\nltk_data...\n",
      "[nltk_data]   Package cmudict is already up-to-date!\n"
     ]
    }
   ],
   "source": [
    "import nltk\n",
    "import numpy as np\n",
    "nltk.download('cmudict')\n",
    "#^run this line once when implementing \n",
    "entries = nltk.corpus.cmudict.entries()"
   ]
  },
  {
   "cell_type": "code",
   "execution_count": null,
   "metadata": {},
   "outputs": [],
   "source": []
  },
  {
   "cell_type": "code",
   "execution_count": null,
   "metadata": {},
   "outputs": [],
   "source": []
  },
  {
   "cell_type": "code",
   "execution_count": null,
   "metadata": {},
   "outputs": [],
   "source": []
  },
  {
   "cell_type": "code",
   "execution_count": null,
   "metadata": {},
   "outputs": [],
   "source": []
  },
  {
   "cell_type": "code",
   "execution_count": 2,
   "metadata": {},
   "outputs": [],
   "source": [
    "dictionary = nltk.corpus.cmudict.dict()"
   ]
  },
  {
   "cell_type": "code",
   "execution_count": 84,
   "metadata": {},
   "outputs": [],
   "source": [
    "words = []\n",
    "lengths = []\n",
    "for index, entry in enumerate(entries):\n",
    "    if len(dictionary[entry[0]]) > 1:\n",
    "        words.append(entry[0])\n",
    "    lengths.append(len(dictionary[entry[0]]))"
   ]
  },
  {
   "cell_type": "code",
   "execution_count": 85,
   "metadata": {},
   "outputs": [],
   "source": [
    "words = list(set(words))"
   ]
  },
  {
   "cell_type": "code",
   "execution_count": 86,
   "metadata": {},
   "outputs": [],
   "source": [
    "confuse = []\n",
    "for word in words:\n",
    "    if len(dictionary[word]) > 4:\n",
    "        confuse.append(word)"
   ]
  },
  {
   "cell_type": "code",
   "execution_count": 87,
   "metadata": {},
   "outputs": [
    {
     "name": "stdout",
     "output_type": "stream",
     "text": [
      "2\n"
     ]
    }
   ],
   "source": [
    "print(len(confuse))"
   ]
  },
  {
   "cell_type": "code",
   "execution_count": 88,
   "metadata": {},
   "outputs": [
    {
     "name": "stdout",
     "output_type": "stream",
     "text": [
      "[['F', 'EH1', 'B', 'Y', 'AH0', 'W', 'EH2', 'R', 'IY0', 'Z'], ['F', 'EH1', 'B', 'AH0', 'W', 'EH2', 'R', 'IY0', 'Z'], ['F', 'EH1', 'B', 'R', 'UW0', 'W', 'EH2', 'R', 'IY0', 'Z'], ['F', 'EH1', 'B', 'UW0', 'W', 'EH2', 'R', 'IY0', 'Z'], ['F', 'EH1', 'B', 'Y', 'UW0', 'W', 'EH2', 'R', 'IY0', 'Z']]\n"
     ]
    }
   ],
   "source": [
    "print(dictionary[confuse[0]])"
   ]
  },
  {
   "cell_type": "code",
   "execution_count": 89,
   "metadata": {},
   "outputs": [
    {
     "name": "stdout",
     "output_type": "stream",
     "text": [
      "[\"february's\", 'february']\n"
     ]
    }
   ],
   "source": [
    "print(confuse)"
   ]
  },
  {
   "cell_type": "code",
   "execution_count": 90,
   "metadata": {},
   "outputs": [
    {
     "name": "stdout",
     "output_type": "stream",
     "text": [
      "[['F', 'EH1', 'B', 'Y', 'AH0', 'W', 'EH2', 'R', 'IY0'], ['F', 'EH1', 'B', 'AH0', 'W', 'EH2', 'R', 'IY0'], ['F', 'EH1', 'B', 'R', 'UW0', 'W', 'EH2', 'R', 'IY0'], ['F', 'EH1', 'B', 'UW0', 'W', 'EH2', 'R', 'IY0'], ['F', 'EH1', 'B', 'Y', 'UW0', 'W', 'EH2', 'R', 'IY0']]\n"
     ]
    }
   ],
   "source": [
    "print(dictionary[confuse[1]])"
   ]
  },
  {
   "cell_type": "code",
   "execution_count": 91,
   "metadata": {},
   "outputs": [
    {
     "name": "stdout",
     "output_type": "stream",
     "text": [
      "1.1725924762780682\n"
     ]
    }
   ],
   "source": [
    "print(np.mean(lengths))"
   ]
  },
  {
   "cell_type": "code",
   "execution_count": 92,
   "metadata": {},
   "outputs": [],
   "source": [
    "from matplotlib import pyplot as plt"
   ]
  },
  {
   "cell_type": "code",
   "execution_count": 93,
   "metadata": {},
   "outputs": [
    {
     "data": {
      "image/png": "[encoded data removed]",
      "text/plain": [
       "<Figure size 432x288 with 1 Axes>"
      ]
     },
     "metadata": {
      "needs_background": "light"
     },
     "output_type": "display_data"
    }
   ],
   "source": [
    "plt.hist(lengths, bins = 5)\n",
    "plt.show()"
   ]
  },
  {
   "cell_type": "code",
   "execution_count": 95,
   "metadata": {},
   "outputs": [],
   "source": [
    "list4 = []\n",
    "for word in words:\n",
    "    if len(dictionary[word]) == 2:\n",
    "        list1 = dictionary[word][0]\n",
    "        list2 = dictionary[word][1]\n",
    "        common = list(set(list1).intersection(list2))\n",
    "        list3 = list1 + list2\n",
    "        list4 += [x for x in list3 if x not in common]"
   ]
  },
  {
   "cell_type": "code",
   "execution_count": null,
   "metadata": {},
   "outputs": [],
   "source": []
  },
  {
   "cell_type": "code",
   "execution_count": 96,
   "metadata": {},
   "outputs": [],
   "source": [
    "import pandas as pd"
   ]
  },
  {
   "cell_type": "code",
   "execution_count": 97,
   "metadata": {},
   "outputs": [],
   "source": [
    "df = pd.value_counts(np.array(list4))"
   ]
  },
  {
   "cell_type": "code",
   "execution_count": 98,
   "metadata": {},
   "outputs": [
    {
     "data": {
      "text/plain": [
       "AH0    2361\n",
       "IH0    1956\n",
       "IY0     823\n",
       "AA1     658\n",
       "AE1     624\n",
       "       ... \n",
       "UH2      13\n",
       "M         9\n",
       "OY2       6\n",
       "OY0       5\n",
       "UW        1\n",
       "Length: 70, dtype: int64"
      ]
     },
     "execution_count": 98,
     "metadata": {},
     "output_type": "execute_result"
    }
   ],
   "source": [
    "df"
   ]
  },
  {
   "cell_type": "code",
   "execution_count": 99,
   "metadata": {},
   "outputs": [],
   "source": [
    "changed = df.index.values"
   ]
  },
  {
   "cell_type": "code",
   "execution_count": 100,
   "metadata": {},
   "outputs": [],
   "source": [
    "stats = []\n",
    "for i in range(len(changed)):\n",
    "    counter = 0\n",
    "    for index, entry in enumerate(entries):\n",
    "        counter += entry[1].count(changed[i])\n",
    "    stats.append(counter)"
   ]
  },
  {
   "cell_type": "code",
   "execution_count": 101,
   "metadata": {},
   "outputs": [
    {
     "name": "stdout",
     "output_type": "stream",
     "text": [
      "[63574, 31627, 22610, 16769, 16811, 23978, 20800, 10118, 9234, 48549, 9319, 46046, 15602, 5171, 6818, 8031, 50427, 27842, 2880, 8554, 8359, 1776, 1242, 6607, 3304, 3253, 3061, 4716, 1721, 4960, 3272, 6822, 4548, 8700, 2050, 3718, 8864, 983, 2864, 2375, 6404, 42502, 1490, 1769, 32389, 13553, 1583, 49479, 2134, 10742, 19715, 60564, 2902, 1078, 13748, 1014, 560, 576, 9865, 244, 378, 501, 944, 655, 21057, 446, 29347, 194, 129, 1]\n"
     ]
    }
   ],
   "source": [
    "print(stats)"
   ]
  },
  {
   "cell_type": "code",
   "execution_count": 153,
   "metadata": {},
   "outputs": [],
   "source": [
    "A = np.array([i / j for i, j in zip(df.values, stats)])"
   ]
  },
  {
   "cell_type": "code",
   "execution_count": 141,
   "metadata": {},
   "outputs": [
    {
     "name": "stdout",
     "output_type": "stream",
     "text": [
      "[3.7138, 6.1846, 3.64, 3.9239, 3.7119, 2.3813, 2.7163, 5.3864, 5.3173, 1.0072, 5.1937, 1.0033, 2.583, 6.227, 4.2974, 3.5612, 0.5334, 0.8836, 7.9514, 2.5719, 2.5601, 11.3176, 15.1369, 2.8152, 5.4479, 5.0415, 5.2924, 3.3927, 8.9483, 3.1048, 4.6149, 2.1695, 3.0343, 1.5862, 6.6341, 3.362, 1.4102, 11.6989, 3.9455, 4.4211, 1.624, 0.2423, 6.3087, 4.8615, 0.2655, 0.5681, 4.5483, 0.1233, 2.671, 0.4375, 0.2384, 0.076, 1.4473, 3.8033, 0.291, 3.6489, 5.5357, 4.6875, 0.2636, 10.2459, 6.0847, 4.3912, 1.9068, 2.5954, 0.0617, 2.9148, 0.0307, 3.0928, 3.876, 100.0]\n"
     ]
    }
   ],
   "source": [
    "B = [round(100*i,4) for i in A]\n",
    "print(B)"
   ]
  },
  {
   "cell_type": "code",
   "execution_count": 156,
   "metadata": {},
   "outputs": [
    {
     "name": "stdout",
     "output_type": "stream",
     "text": [
      "[0.0307, 0.0617, 0.076, 0.1233, 0.2384, 0.2423, 0.2636, 0.2655, 0.291, 0.4375, 0.5334, 0.5681, 0.8836, 1.0033, 1.0072, 1.4102, 1.4473, 1.5862, 1.624, 1.9068, 2.1695, 2.3813, 2.5601, 2.5719, 2.583, 2.5954, 2.671, 2.7163, 2.8152, 2.9148, 3.0343, 3.0928, 3.1048, 3.362, 3.3927, 3.5612, 3.64, 3.6489, 3.7119, 3.7138, 3.8033, 3.876, 3.9239, 3.9455, 4.2974, 4.3912, 4.4211, 4.5483, 4.6149, 4.6875, 4.8615, 5.0415, 5.1937, 5.2924, 5.3173, 5.3864, 5.4479, 5.5357, 6.0847, 6.1846, 6.227, 6.3087, 6.6341, 7.9514, 8.9483, 10.2459, 11.3176, 11.6989, 15.1369, 100.0]\n"
     ]
    }
   ],
   "source": [
    "B = list(A[np.argsort(A)])\n",
    "B = [round(100*i,4) for i in B]\n",
    "print(B)"
   ]
  },
  {
   "cell_type": "code",
   "execution_count": 159,
   "metadata": {},
   "outputs": [],
   "source": [
    "C = df.index[np.argsort(A)].values"
   ]
  },
  {
   "cell_type": "code",
   "execution_count": 161,
   "metadata": {},
   "outputs": [
    {
     "name": "stdout",
     "output_type": "stream",
     "text": [
      "M can be pronounced differently in  0.0307 % of times where it occurs\n",
      "B can be pronounced differently in  0.0617 % of times where it occurs\n",
      "N can be pronounced differently in  0.076 % of times where it occurs\n",
      "L can be pronounced differently in  0.1233 % of times where it occurs\n",
      "P can be pronounced differently in  0.2384 % of times where it occurs\n",
      "K can be pronounced differently in  0.2423 % of times where it occurs\n",
      "NG can be pronounced differently in  0.2636 % of times where it occurs\n",
      "D can be pronounced differently in  0.2655 % of times where it occurs\n",
      "F can be pronounced differently in  0.291 % of times where it occurs\n",
      "V can be pronounced differently in  0.4375 % of times where it occurs\n",
      "S can be pronounced differently in  0.5334 % of times where it occurs\n",
      "G can be pronounced differently in  0.5681 % of times where it occurs\n",
      "Z can be pronounced differently in  0.8836 % of times where it occurs\n",
      "R can be pronounced differently in  1.0033 % of times where it occurs\n",
      "T can be pronounced differently in  1.0072 % of times where it occurs\n",
      "W can be pronounced differently in  1.4102 % of times where it occurs\n",
      "TH can be pronounced differently in  1.4473 % of times where it occurs\n",
      "SH can be pronounced differently in  1.5862 % of times where it occurs\n",
      "JH can be pronounced differently in  1.624 % of times where it occurs\n",
      "OY1 can be pronounced differently in  1.9068 % of times where it occurs\n",
      "AH1 can be pronounced differently in  2.1695 % of times where it occurs\n",
      "ER0 can be pronounced differently in  2.3813 % of times where it occurs\n",
      "OW0 can be pronounced differently in  2.5601 % of times where it occurs\n",
      "OW1 can be pronounced differently in  2.5719 % of times where it occurs\n",
      "IH1 can be pronounced differently in  2.583 % of times where it occurs\n",
      "AW2 can be pronounced differently in  2.5954 % of times where it occurs\n",
      "OW2 can be pronounced differently in  2.671 % of times where it occurs\n",
      "EH1 can be pronounced differently in  2.7163 % of times where it occurs\n",
      "UW1 can be pronounced differently in  2.8152 % of times where it occurs\n",
      "UH2 can be pronounced differently in  2.9148 % of times where it occurs\n",
      "ER1 can be pronounced differently in  3.0343 % of times where it occurs\n",
      "OY2 can be pronounced differently in  3.0928 % of times where it occurs\n",
      "CH can be pronounced differently in  3.1048 % of times where it occurs\n",
      "EH2 can be pronounced differently in  3.362 % of times where it occurs\n",
      "AA0 can be pronounced differently in  3.3927 % of times where it occurs\n",
      "AO1 can be pronounced differently in  3.5612 % of times where it occurs\n",
      "IY0 can be pronounced differently in  3.64 % of times where it occurs\n",
      "AH2 can be pronounced differently in  3.6489 % of times where it occurs\n",
      "AE1 can be pronounced differently in  3.7119 % of times where it occurs\n",
      "AH0 can be pronounced differently in  3.7138 % of times where it occurs\n",
      "UW2 can be pronounced differently in  3.8033 % of times where it occurs\n",
      "OY0 can be pronounced differently in  3.876 % of times where it occurs\n",
      "AA1 can be pronounced differently in  3.9239 % of times where it occurs\n",
      "IH2 can be pronounced differently in  3.9455 % of times where it occurs\n",
      "AY1 can be pronounced differently in  4.2974 % of times where it occurs\n",
      "ER2 can be pronounced differently in  4.3912 % of times where it occurs\n",
      "AW1 can be pronounced differently in  4.4211 % of times where it occurs\n",
      "UH1 can be pronounced differently in  4.5483 % of times where it occurs\n",
      "AE2 can be pronounced differently in  4.6149 % of times where it occurs\n",
      "DH can be pronounced differently in  4.6875 % of times where it occurs\n",
      "AO2 can be pronounced differently in  4.8615 % of times where it occurs\n",
      "AY2 can be pronounced differently in  5.0415 % of times where it occurs\n",
      "HH can be pronounced differently in  5.1937 % of times where it occurs\n",
      "AA2 can be pronounced differently in  5.2924 % of times where it occurs\n",
      "EY1 can be pronounced differently in  5.3173 % of times where it occurs\n",
      "IY1 can be pronounced differently in  5.3864 % of times where it occurs\n",
      "EY2 can be pronounced differently in  5.4479 % of times where it occurs\n",
      "ZH can be pronounced differently in  5.5357 % of times where it occurs\n",
      "AW0 can be pronounced differently in  6.0847 % of times where it occurs\n",
      "IH0 can be pronounced differently in  6.1846 % of times where it occurs\n",
      "Y can be pronounced differently in  6.227 % of times where it occurs\n",
      "AO0 can be pronounced differently in  6.3087 % of times where it occurs\n",
      "UW0 can be pronounced differently in  6.6341 % of times where it occurs\n",
      "EH0 can be pronounced differently in  7.9514 % of times where it occurs\n",
      "AE0 can be pronounced differently in  8.9483 % of times where it occurs\n",
      "UH0 can be pronounced differently in  10.2459 % of times where it occurs\n",
      "IY2 can be pronounced differently in  11.3176 % of times where it occurs\n",
      "EY0 can be pronounced differently in  11.6989 % of times where it occurs\n",
      "AY0 can be pronounced differently in  15.1369 % of times where it occurs\n",
      "UW can be pronounced differently in  100.0 % of times where it occurs\n"
     ]
    }
   ],
   "source": [
    "for i in range(len(B)):\n",
    "    print(C[i], \"can be pronounced differently in \", B[i], \"% of times where it occurs\")"
   ]
  },
  {
   "cell_type": "code",
   "execution_count": 162,
   "metadata": {},
   "outputs": [
    {
     "name": "stdout",
     "output_type": "stream",
     "text": [
      "AH0 was changed  2361  times\n",
      "IH0 was changed  1956  times\n",
      "IY0 was changed  823  times\n",
      "AA1 was changed  658  times\n",
      "AE1 was changed  624  times\n",
      "ER0 was changed  571  times\n",
      "EH1 was changed  565  times\n",
      "IY1 was changed  545  times\n",
      "EY1 was changed  491  times\n",
      "T was changed  489  times\n",
      "HH was changed  484  times\n",
      "R was changed  462  times\n",
      "IH1 was changed  403  times\n",
      "Y was changed  322  times\n",
      "AY1 was changed  293  times\n",
      "AO1 was changed  286  times\n",
      "S was changed  269  times\n",
      "Z was changed  246  times\n",
      "EH0 was changed  229  times\n",
      "OW1 was changed  220  times\n",
      "OW0 was changed  214  times\n",
      "IY2 was changed  201  times\n",
      "AY0 was changed  188  times\n",
      "UW1 was changed  186  times\n",
      "EY2 was changed  180  times\n",
      "AY2 was changed  164  times\n",
      "AA2 was changed  162  times\n",
      "AA0 was changed  160  times\n",
      "AE0 was changed  154  times\n",
      "CH was changed  154  times\n",
      "AE2 was changed  151  times\n",
      "AH1 was changed  148  times\n",
      "ER1 was changed  138  times\n",
      "SH was changed  138  times\n",
      "UW0 was changed  136  times\n",
      "EH2 was changed  125  times\n",
      "W was changed  125  times\n",
      "EY0 was changed  115  times\n",
      "IH2 was changed  113  times\n",
      "AW1 was changed  105  times\n",
      "JH was changed  104  times\n",
      "K was changed  103  times\n",
      "AO0 was changed  94  times\n",
      "AO2 was changed  86  times\n",
      "D was changed  86  times\n",
      "G was changed  77  times\n",
      "UH1 was changed  72  times\n",
      "L was changed  61  times\n",
      "OW2 was changed  57  times\n",
      "V was changed  47  times\n",
      "P was changed  47  times\n",
      "N was changed  46  times\n",
      "TH was changed  42  times\n",
      "UW2 was changed  41  times\n",
      "F was changed  40  times\n",
      "AH2 was changed  37  times\n",
      "ZH was changed  31  times\n",
      "DH was changed  27  times\n",
      "NG was changed  26  times\n",
      "UH0 was changed  25  times\n",
      "AW0 was changed  23  times\n",
      "ER2 was changed  22  times\n",
      "OY1 was changed  18  times\n",
      "AW2 was changed  17  times\n",
      "B was changed  13  times\n",
      "UH2 was changed  13  times\n",
      "M was changed  9  times\n",
      "OY2 was changed  6  times\n",
      "OY0 was changed  5  times\n",
      "UW was changed  1  times\n"
     ]
    }
   ],
   "source": [
    "for i in range(len(df.index.values)):\n",
    "    print(df.index.values[i], \"was changed \", df.values[i], \" times\")"
   ]
  },
  {
   "cell_type": "code",
   "execution_count": 163,
   "metadata": {},
   "outputs": [
    {
     "name": "stdout",
     "output_type": "stream",
     "text": [
      "9241\n"
     ]
    }
   ],
   "source": [
    "print(len(words))"
   ]
  },
  {
   "cell_type": "code",
   "execution_count": 164,
   "metadata": {},
   "outputs": [
    {
     "name": "stdout",
     "output_type": "stream",
     "text": [
      "[['W', 'AA0', 'N', 'IY1', 'T', 'AH0'], ['JH', 'UW', 'AH0', 'N', 'IY1', 'T', 'AH0']]\n"
     ]
    }
   ],
   "source": [
    "print(dictionary['juanita'])"
   ]
  },
  {
   "cell_type": "code",
   "execution_count": 3,
   "metadata": {},
   "outputs": [
    {
     "name": "stdout",
     "output_type": "stream",
     "text": [
      "[['F', 'EH1', 'B', 'Y', 'AH0', 'W', 'EH2', 'R', 'IY0'], ['F', 'EH1', 'B', 'AH0', 'W', 'EH2', 'R', 'IY0'], ['F', 'EH1', 'B', 'R', 'UW0', 'W', 'EH2', 'R', 'IY0'], ['F', 'EH1', 'B', 'UW0', 'W', 'EH2', 'R', 'IY0'], ['F', 'EH1', 'B', 'Y', 'UW0', 'W', 'EH2', 'R', 'IY0']]\n"
     ]
    }
   ],
   "source": [
    "print(dictionary['february'])"
   ]
  },
  {
   "cell_type": "code",
   "execution_count": null,
   "metadata": {},
   "outputs": [],
   "source": []
  }
 ],
 "metadata": {
  "kernelspec": {
   "display_name": "Python 3 (ipykernel)",
   "language": "python",
   "name": "python3"
  },
  "language_info": {
   "codemirror_mode": {
    "name": "ipython",
    "version": 3
   },
   "file_extension": ".py",
   "mimetype": "text/x-python",
   "name": "python",
   "nbconvert_exporter": "python",
   "pygments_lexer": "ipython3",
   "version": "3.9.13"
  }
 },
 "nbformat": 4,
 "nbformat_minor": 4
}
