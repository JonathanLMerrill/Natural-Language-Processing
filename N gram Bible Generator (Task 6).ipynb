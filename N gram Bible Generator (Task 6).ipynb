{
 "cells": [
  {
   "cell_type": "code",
   "execution_count": 1,
   "metadata": {},
   "outputs": [],
   "source": [
    "from nltk import word_tokenize, sent_tokenize \n",
    "from nltk.lm.preprocessing import padded_everygram_pipeline\n",
    "from nltk.tokenize.treebank import TreebankWordDetokenizer\n",
    "from nltk.lm import MLE\n",
    "import pandas as pd"
   ]
  },
  {
   "cell_type": "code",
   "execution_count": 11,
   "metadata": {},
   "outputs": [
    {
     "name": "stdout",
     "output_type": "stream",
     "text": [
      "2  grams:\n",
      "God was a sea, and your children of it four hundred and they be clothed, and his thick\n",
      "3  grams:\n",
      "Then Jonah prayed unto the children of Israel, because Judas had the seven and thirtieth year of his heart\n",
      "4  grams:\n",
      "before the tabernacle of the congregation, because the preacher was wise, he still taught the people in the\n",
      "5  grams:\n",
      "All scripture is given by inspiration of God, and abode there three days, until the pursuers were returned\n",
      "6  grams:\n",
      "and he did that which was right in the sight of the LORD, in provoking him to anger with\n",
      "7  grams:\n",
      "went, that he entered into a certain village: and a certain woman named Martha received him into her\n",
      "8  grams:\n",
      "LORD; Execute ye judgment and righteousness, and deliver the spoiled out of the hand of the oppressor :\n",
      "9  grams:\n",
      "And over them that did the work of the field for tillage of the ground was Ezri the son of\n"
     ]
    }
   ],
   "source": [
    "#read in a dataframe containing all bible verses\n",
    "df = pd.read_csv('t_kjv.csv')\n",
    "#create a corpus of the bible verses tokenized\n",
    "corpus = list(df['t'].apply(word_tokenize))\n",
    "#Preprocess the tokenized text for n-grams language modelling\n",
    "for n in range(2,10):\n",
    "    train_data, padded_sents = padded_everygram_pipeline(n, corpus)\n",
    "    #define the model\n",
    "    model = MLE(n)\n",
    "    #fit the model \n",
    "    model.fit(train_data, padded_sents)\n",
    "    #print out detokenized predictions for varying number of words and multiple seeds\n",
    "    print(n, \" grams:\")\n",
    "    rs = 7\n",
    "    num_words = 20\n",
    "    verse = TreebankWordDetokenizer().detokenize(model.generate(num_words, random_seed=rs))\n",
    "    while '>' in verse:\n",
    "        rs += 1\n",
    "        verse = TreebankWordDetokenizer().detokenize(model.generate(num_words, random_seed=rs))\n",
    "    print(verse)"
   ]
  },
  {
   "cell_type": "code",
   "execution_count": 8,
   "metadata": {},
   "outputs": [
    {
     "name": "stdout",
     "output_type": "stream",
     "text": [
      "All scripture is given by inspiration of God, and abode there three days, until the pursuers were returned\n"
     ]
    }
   ],
   "source": [
    "rs = 7\n",
    "verse = TreebankWordDetokenizer().detokenize(model.generate(20, random_seed=rs))\n",
    "while '</s>' in verse:\n",
    "    rs += 1\n",
    "    verse = TreebankWordDetokenizer().detokenize(model.generate(20, random_seed=rs))\n",
    "print(verse)"
   ]
  },
  {
   "cell_type": "code",
   "execution_count": null,
   "metadata": {},
   "outputs": [],
   "source": []
  }
 ],
 "metadata": {
  "kernelspec": {
   "display_name": "Python 3 (ipykernel)",
   "language": "python",
   "name": "python3"
  },
  "language_info": {
   "codemirror_mode": {
    "name": "ipython",
    "version": 3
   },
   "file_extension": ".py",
   "mimetype": "text/x-python",
   "name": "python",
   "nbconvert_exporter": "python",
   "pygments_lexer": "ipython3",
   "version": "3.9.13"
  }
 },
 "nbformat": 4,
 "nbformat_minor": 4
}
