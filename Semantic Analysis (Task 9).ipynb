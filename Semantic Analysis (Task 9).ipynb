{
 "cells": [
  {
   "cell_type": "code",
   "execution_count": 46,
   "metadata": {},
   "outputs": [
    {
     "name": "stderr",
     "output_type": "stream",
     "text": [
      "[nltk_data] Downloading package wordnet to\n",
      "[nltk_data]     C:\\Users\\rober\\AppData\\Roaming\\nltk_data...\n",
      "[nltk_data]   Package wordnet is already up-to-date!\n"
     ]
    }
   ],
   "source": [
    "from nltk.corpus import wordnet as wn\n",
    "import nltk\n",
    "nltk.download('wordnet')\n",
    "import numpy as np"
   ]
  },
  {
   "cell_type": "code",
   "execution_count": 67,
   "metadata": {},
   "outputs": [],
   "source": [
    "A = []\n",
    "A.append(wn.synset('mormon.n.01'))\n",
    "A.append(wn.synset('baptist.n.01'))\n",
    "A.append(wn.synset('catholic.n.01'))\n",
    "A.append(wn.synset('jew.n.01'))\n",
    "A.append(wn.synset('christian.n.01'))\n",
    "A.append(wn.synset('atheist.n.01'))\n",
    "A.append(wn.synset('agnostic.n.01'))\n",
    "A.append(wn.synset('buddhist.n.01'))\n",
    "A.append(wn.synset('methodist.n.01'))\n",
    "A.append(wn.synset('God.n.01'))"
   ]
  },
  {
   "cell_type": "code",
   "execution_count": 74,
   "metadata": {},
   "outputs": [
    {
     "name": "stdout",
     "output_type": "stream",
     "text": [
      "Mormon has similarity  0.16667 to  Baptist\n",
      "Mormon has similarity  0.2 to  Catholic\n",
      "Mormon has similarity  0.2 to  Jew\n",
      "Mormon has similarity  0.25 to  Christian\n",
      "Mormon has similarity  0.14286 to  atheist\n",
      "Mormon has similarity  0.2 to  agnostic\n",
      "Mormon has similarity  0.25 to  Buddhist\n",
      "Mormon has similarity  0.16667 to  Methodist\n",
      "Mormon has similarity  0.07143 to  God\n",
      "Baptist has similarity  0.16667 to  Mormon\n",
      "Baptist has similarity  0.25 to  Catholic\n",
      "Baptist has similarity  0.16667 to  Jew\n",
      "Baptist has similarity  0.33333 to  Christian\n",
      "Baptist has similarity  0.125 to  atheist\n",
      "Baptist has similarity  0.16667 to  agnostic\n",
      "Baptist has similarity  0.2 to  Buddhist\n",
      "Baptist has similarity  0.33333 to  Methodist\n",
      "Baptist has similarity  0.06667 to  God\n",
      "Catholic has similarity  0.2 to  Mormon\n",
      "Catholic has similarity  0.25 to  Baptist\n",
      "Catholic has similarity  0.2 to  Jew\n",
      "Catholic has similarity  0.5 to  Christian\n",
      "Catholic has similarity  0.14286 to  atheist\n",
      "Catholic has similarity  0.2 to  agnostic\n",
      "Catholic has similarity  0.25 to  Buddhist\n",
      "Catholic has similarity  0.25 to  Methodist\n",
      "Catholic has similarity  0.07143 to  God\n",
      "Jew has similarity  0.2 to  Mormon\n",
      "Jew has similarity  0.16667 to  Baptist\n",
      "Jew has similarity  0.2 to  Catholic\n",
      "Jew has similarity  0.25 to  Christian\n",
      "Jew has similarity  0.2 to  atheist\n",
      "Jew has similarity  0.33333 to  agnostic\n",
      "Jew has similarity  0.25 to  Buddhist\n",
      "Jew has similarity  0.16667 to  Methodist\n",
      "Jew has similarity  0.08333 to  God\n",
      "Christian has similarity  0.25 to  Mormon\n",
      "Christian has similarity  0.33333 to  Baptist\n",
      "Christian has similarity  0.5 to  Catholic\n",
      "Christian has similarity  0.25 to  Jew\n",
      "Christian has similarity  0.16667 to  atheist\n",
      "Christian has similarity  0.25 to  agnostic\n",
      "Christian has similarity  0.33333 to  Buddhist\n",
      "Christian has similarity  0.33333 to  Methodist\n",
      "Christian has similarity  0.07692 to  God\n",
      "atheist has similarity  0.14286 to  Mormon\n",
      "atheist has similarity  0.125 to  Baptist\n",
      "atheist has similarity  0.14286 to  Catholic\n",
      "atheist has similarity  0.2 to  Jew\n",
      "atheist has similarity  0.16667 to  Christian\n",
      "atheist has similarity  0.2 to  agnostic\n",
      "atheist has similarity  0.16667 to  Buddhist\n",
      "atheist has similarity  0.125 to  Methodist\n",
      "atheist has similarity  0.07143 to  God\n",
      "agnostic has similarity  0.2 to  Mormon\n",
      "agnostic has similarity  0.16667 to  Baptist\n",
      "agnostic has similarity  0.2 to  Catholic\n",
      "agnostic has similarity  0.33333 to  Jew\n",
      "agnostic has similarity  0.25 to  Christian\n",
      "agnostic has similarity  0.2 to  atheist\n",
      "agnostic has similarity  0.25 to  Buddhist\n",
      "agnostic has similarity  0.16667 to  Methodist\n",
      "agnostic has similarity  0.08333 to  God\n",
      "Buddhist has similarity  0.25 to  Mormon\n",
      "Buddhist has similarity  0.2 to  Baptist\n",
      "Buddhist has similarity  0.25 to  Catholic\n",
      "Buddhist has similarity  0.25 to  Jew\n",
      "Buddhist has similarity  0.33333 to  Christian\n",
      "Buddhist has similarity  0.16667 to  atheist\n",
      "Buddhist has similarity  0.25 to  agnostic\n",
      "Buddhist has similarity  0.2 to  Methodist\n",
      "Buddhist has similarity  0.07692 to  God\n",
      "Methodist has similarity  0.16667 to  Mormon\n",
      "Methodist has similarity  0.33333 to  Baptist\n",
      "Methodist has similarity  0.25 to  Catholic\n",
      "Methodist has similarity  0.16667 to  Jew\n",
      "Methodist has similarity  0.33333 to  Christian\n",
      "Methodist has similarity  0.125 to  atheist\n",
      "Methodist has similarity  0.16667 to  agnostic\n",
      "Methodist has similarity  0.2 to  Buddhist\n",
      "Methodist has similarity  0.06667 to  God\n",
      "God has similarity  0.07143 to  Mormon\n",
      "God has similarity  0.06667 to  Baptist\n",
      "God has similarity  0.07143 to  Catholic\n",
      "God has similarity  0.08333 to  Jew\n",
      "God has similarity  0.07692 to  Christian\n",
      "God has similarity  0.07143 to  atheist\n",
      "God has similarity  0.08333 to  agnostic\n",
      "God has similarity  0.07692 to  Buddhist\n",
      "God has similarity  0.06667 to  Methodist\n"
     ]
    }
   ],
   "source": [
    "B = np.zeros((len(A), len(A)))\n",
    "for n,i in enumerate(A):\n",
    "    for m,j in enumerate(A):\n",
    "        B[n][m] = round(i.path_similarity(j),4)\n",
    "        if i == j:\n",
    "            continue\n",
    "        else:\n",
    "            print(i.lemma_names()[0], \"has similarity \", round(i.path_similarity(j),5), \"to \", j.lemma_names()[0])"
   ]
  },
  {
   "cell_type": "code",
   "execution_count": 86,
   "metadata": {},
   "outputs": [
    {
     "name": "stdout",
     "output_type": "stream",
     "text": [
      "         mormon baptist cath. jew christian atheist agnos. buddhist method. God\n",
      "Mormon    [1.     0.1667 0.2    0.2    0.25   0.1429 0.2    0.25   0.1667 0.0714]\n",
      "Baptist   [0.1667 1.     0.25   0.1667 0.3333 0.125  0.1667 0.2    0.3333 0.0667]\n",
      "Catholic  [0.2    0.25   1.     0.2    0.5    0.1429 0.2    0.25   0.25   0.0714]\n",
      "Jew       [0.2    0.1667 0.2    1.     0.25   0.2    0.3333 0.25   0.1667 0.0833]\n",
      "Christian [0.25   0.3333 0.5    0.25   1.     0.1667 0.25   0.3333 0.3333 0.0769]\n",
      "Atheist   [0.1429 0.125  0.1429 0.2    0.1667 1.     0.2    0.1667 0.125  0.0714]\n",
      "Agnostic  [0.2    0.1667 0.2    0.3333 0.25   0.2    1.     0.25   0.1667 0.0833]\n",
      "Buddhist  [0.25   0.2    0.25   0.25   0.3333 0.1667 0.25   1.     0.2    0.0769]\n",
      "Methodist [0.1667 0.3333 0.25   0.1667 0.3333 0.125  0.1667 0.2    1.     0.0667]\n",
      "God       [0.0714 0.0667 0.0714 0.0833 0.0769 0.0714 0.0833 0.0769 0.0667 1.    ]\n"
     ]
    }
   ],
   "source": [
    "print(\"         mormon baptist cath. jew christian atheist agnos. buddhist method. God\")\n",
    "C = [\"Mormon   \", \"Baptist  \", \"Catholic \", \"Jew      \", \"Christian\", \"Atheist  \", \"Agnostic \", \"Buddhist \", \"Methodist\", \"God      \"]\n",
    "for n,i in enumerate(B):\n",
    "    print(C[n], i)"
   ]
  },
  {
   "cell_type": "code",
   "execution_count": 97,
   "metadata": {},
   "outputs": [
    {
     "name": "stdout",
     "output_type": "stream",
     "text": [
      "Mormon has similarity  0.07143 to  God\n",
      "Mormon has similarity  0.0625 to  basketball\n",
      "Mormon has similarity  0.0625 to  football\n",
      "Mormon has similarity  0.05556 to  baseball\n",
      "Mormon has similarity  0.05882 to  soccer\n",
      "God has similarity  0.07143 to  Mormon\n",
      "God has similarity  0.07692 to  basketball\n",
      "God has similarity  0.07692 to  football\n",
      "God has similarity  0.06667 to  baseball\n",
      "God has similarity  0.07143 to  soccer\n",
      "basketball has similarity  0.0625 to  Mormon\n",
      "basketball has similarity  0.07692 to  God\n",
      "basketball has similarity  0.16667 to  football\n",
      "basketball has similarity  0.14286 to  baseball\n",
      "basketball has similarity  0.14286 to  soccer\n",
      "football has similarity  0.0625 to  Mormon\n",
      "football has similarity  0.07692 to  God\n",
      "football has similarity  0.16667 to  basketball\n",
      "football has similarity  0.25 to  baseball\n",
      "football has similarity  0.5 to  soccer\n",
      "baseball has similarity  0.05556 to  Mormon\n",
      "baseball has similarity  0.06667 to  God\n",
      "baseball has similarity  0.14286 to  basketball\n",
      "baseball has similarity  0.25 to  football\n",
      "baseball has similarity  0.2 to  soccer\n",
      "soccer has similarity  0.05882 to  Mormon\n",
      "soccer has similarity  0.07143 to  God\n",
      "soccer has similarity  0.14286 to  basketball\n",
      "soccer has similarity  0.5 to  football\n",
      "soccer has similarity  0.2 to  baseball\n"
     ]
    }
   ],
   "source": [
    "A = []\n",
    "A.append(wn.synset('mormon.n.01'))\n",
    "A.append(wn.synset('God.n.01'))\n",
    "A.append(wn.synset('basketball.n.01'))\n",
    "A.append(wn.synset('football.n.01'))\n",
    "A.append(wn.synset('baseball.n.01'))\n",
    "A.append(wn.synset('soccer.n.01'))\n",
    "B = np.zeros((len(A), len(A)))\n",
    "for n,i in enumerate(A):\n",
    "    for m,j in enumerate(A):\n",
    "        B[n][m] = round(i.path_similarity(j),4)\n",
    "        if i == j:\n",
    "            continue\n",
    "        else:\n",
    "            print(i.lemma_names()[0], \"has similarity \", round(i.path_similarity(j),5), \"to \", j.lemma_names()[0])"
   ]
  },
  {
   "cell_type": "code",
   "execution_count": 100,
   "metadata": {},
   "outputs": [
    {
     "name": "stdout",
     "output_type": "stream",
     "text": [
      "           Mormon   God   Basket. Foot. Base. Soccer\n",
      "Mormon     [1.     0.0714 0.0625 0.0625 0.0556 0.0588]\n",
      "God        [0.0714 1.     0.0769 0.0769 0.0667 0.0714]\n",
      "Basketball [0.0625 0.0769 1.     0.1667 0.1429 0.1429]\n",
      "Football   [0.0625 0.0769 0.1667 1.     0.25   0.5   ]\n",
      "Baseball   [0.0556 0.0667 0.1429 0.25   1.     0.2   ]\n",
      "Soccer     [0.0588 0.0714 0.1429 0.5    0.2    1.    ]\n"
     ]
    }
   ],
   "source": [
    "print(\"           Mormon   God   Basket. Foot. Base. Soccer\")\n",
    "C = [\"Mormon    \", \"God       \", \"Basketball\", \"Football  \", \"Baseball  \", \"Soccer    \"]\n",
    "for n,i in enumerate(B):\n",
    "    print(C[n], i)"
   ]
  },
  {
   "cell_type": "code",
   "execution_count": 107,
   "metadata": {},
   "outputs": [
    {
     "data": {
      "text/plain": [
       "\"any of various games played with a ball (round or oval) in which two teams try to kick or carry or propel the ball into each other's goal\""
      ]
     },
     "execution_count": 107,
     "metadata": {},
     "output_type": "execute_result"
    }
   ],
   "source": [
    "wn.synset('football.n.01').definition()"
   ]
  },
  {
   "cell_type": "code",
   "execution_count": 104,
   "metadata": {},
   "outputs": [
    {
     "data": {
      "text/plain": [
       "[Synset('basketball.n.01'), Synset('basketball.n.02')]"
      ]
     },
     "execution_count": 104,
     "metadata": {},
     "output_type": "execute_result"
    }
   ],
   "source": [
    "wn.synsets('basketball')"
   ]
  },
  {
   "cell_type": "code",
   "execution_count": null,
   "metadata": {},
   "outputs": [],
   "source": []
  }
 ],
 "metadata": {
  "kernelspec": {
   "display_name": "Python 3 (ipykernel)",
   "language": "python",
   "name": "python3"
  },
  "language_info": {
   "codemirror_mode": {
    "name": "ipython",
    "version": 3
   },
   "file_extension": ".py",
   "mimetype": "text/x-python",
   "name": "python",
   "nbconvert_exporter": "python",
   "pygments_lexer": "ipython3",
   "version": "3.9.13"
  }
 },
 "nbformat": 4,
 "nbformat_minor": 4
}
