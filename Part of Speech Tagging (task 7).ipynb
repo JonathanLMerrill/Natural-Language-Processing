{
 "cells": [
  {
   "cell_type": "code",
   "execution_count": 1,
   "metadata": {},
   "outputs": [],
   "source": [
    "from nltk import word_tokenize\n",
    "import nltk\n",
    "#nltk.download('averaged_perceptron_tagger')\n",
    "#nltk.download('tagsets')"
   ]
  },
  {
   "cell_type": "code",
   "execution_count": 65,
   "metadata": {},
   "outputs": [],
   "source": [
    "file = open(\"declaration_of_independence.txt\")"
   ]
  },
  {
   "cell_type": "code",
   "execution_count": 66,
   "metadata": {},
   "outputs": [],
   "source": [
    "text = word_tokenize(file.read())"
   ]
  },
  {
   "cell_type": "code",
   "execution_count": 67,
   "metadata": {},
   "outputs": [],
   "source": [
    "text = [word.lower() for word in text]\n",
    "while ',' in text:\n",
    "    text.remove(',')\n",
    "while '.' in text:\n",
    "    text.remove('.')"
   ]
  },
  {
   "cell_type": "code",
   "execution_count": 71,
   "metadata": {},
   "outputs": [
    {
     "name": "stdout",
     "output_type": "stream",
     "text": [
      "[('in', 'IN'), ('congress', 'NN'), ('july', 'RB'), ('4', 'CD'), ('1776', 'CD'), ('the', 'DT'), ('unanimous', 'JJ'), ('declaration', 'NN'), ('of', 'IN'), ('the', 'DT'), ('thirteen', 'NN'), ('united', 'JJ'), ('states', 'NNS'), ('of', 'IN'), ('america', 'NN'), ('when', 'WRB'), ('in', 'IN'), ('the', 'DT'), ('course', 'NN'), ('of', 'IN'), ('human', 'JJ'), ('events', 'NNS'), ('it', 'PRP'), ('becomes', 'VBZ'), ('necessary', 'JJ'), ('for', 'IN'), ('one', 'CD'), ('people', 'NNS'), ('to', 'TO'), ('dissolve', 'VB'), ('the', 'DT'), ('political', 'JJ'), ('bands', 'NNS'), ('which', 'WDT'), ('have', 'VBP'), ('connected', 'VBN'), ('them', 'PRP'), ('with', 'IN'), ('another', 'DT'), ('and', 'CC'), ('to', 'TO'), ('assume', 'VB'), ('among', 'IN'), ('the', 'DT'), ('powers', 'NNS'), ('of', 'IN'), ('the', 'DT'), ('earth', 'NN'), ('the', 'DT'), ('separate', 'JJ'), ('and', 'CC'), ('equal', 'JJ'), ('station', 'NN'), ('to', 'TO'), ('which', 'WDT'), ('the', 'DT'), ('laws', 'NNS'), ('of', 'IN'), ('nature', 'NN'), ('and', 'CC'), ('of', 'IN'), ('nature', 'NN'), (\"'s\", 'POS'), ('god', 'NN'), ('entitle', 'VBZ'), ('them', 'PRP'), ('a', 'DT'), ('decent', 'JJ'), ('respect', 'NN'), ('to', 'TO'), ('the', 'DT'), ('opinions', 'NNS'), ('of', 'IN'), ('mankind', 'NN'), ('requires', 'VBZ'), ('that', 'IN'), ('they', 'PRP'), ('should', 'MD'), ('declare', 'VB'), ('the', 'DT'), ('causes', 'NNS'), ('which', 'WDT'), ('impel', 'VBP'), ('them', 'PRP'), ('to', 'TO'), ('the', 'DT'), ('separation', 'NN'), ('we', 'PRP'), ('hold', 'VBP'), ('these', 'DT'), ('truths', 'NNS'), ('to', 'TO'), ('be', 'VB'), ('self-evident', 'JJ'), ('that', 'IN'), ('all', 'DT'), ('men', 'NNS'), ('are', 'VBP'), ('created', 'VBN'), ('equal', 'JJ'), ('that', 'IN'), ('they', 'PRP'), ('are', 'VBP'), ('endowed', 'VBN'), ('by', 'IN'), ('their', 'PRP$'), ('creator', 'NN'), ('with', 'IN'), ('certain', 'JJ'), ('unalienable', 'JJ'), ('rights', 'NNS'), ('that', 'WDT'), ('among', 'IN'), ('these', 'DT'), ('are', 'VBP'), ('life', 'NN'), ('liberty', 'NN'), ('and', 'CC'), ('the', 'DT'), ('pursuit', 'NN'), ('of', 'IN'), ('happiness.', 'NN'), ('--', ':'), ('that', 'IN'), ('to', 'TO'), ('secure', 'VB'), ('these', 'DT'), ('rights', 'NNS'), ('governments', 'NNS'), ('are', 'VBP'), ('instituted', 'VBN'), ('among', 'IN'), ('men', 'NNS'), ('deriving', 'VBG'), ('their', 'PRP$'), ('just', 'RB'), ('powers', 'NNS'), ('from', 'IN'), ('the', 'DT'), ('consent', 'NN'), ('of', 'IN'), ('the', 'DT'), ('governed', 'VBN'), ('--', ':'), ('that', 'IN'), ('whenever', 'WRB'), ('any', 'DT'), ('form', 'NN'), ('of', 'IN'), ('government', 'NN'), ('becomes', 'NNS'), ('destructive', 'VBP'), ('of', 'IN'), ('these', 'DT'), ('ends', 'NNS'), ('it', 'PRP'), ('is', 'VBZ'), ('the', 'DT'), ('right', 'NN'), ('of', 'IN'), ('the', 'DT'), ('people', 'NNS'), ('to', 'TO'), ('alter', 'VB'), ('or', 'CC'), ('to', 'TO'), ('abolish', 'VB'), ('it', 'PRP'), ('and', 'CC'), ('to', 'TO'), ('institute', 'VB'), ('new', 'JJ'), ('government', 'NN'), ('laying', 'VBG'), ('its', 'PRP$'), ('foundation', 'NN'), ('on', 'IN'), ('such', 'JJ'), ('principles', 'NNS'), ('and', 'CC'), ('organizing', 'VBG'), ('its', 'PRP$'), ('powers', 'NNS'), ('in', 'IN'), ('such', 'JJ'), ('form', 'NN'), ('as', 'IN'), ('to', 'TO'), ('them', 'PRP'), ('shall', 'MD'), ('seem', 'VB'), ('most', 'RBS'), ('likely', 'JJ'), ('to', 'TO'), ('effect', 'NN'), ('their', 'PRP$'), ('safety', 'NN'), ('and', 'CC'), ('happiness', 'JJ'), ('prudence', 'NN'), ('indeed', 'RB'), ('will', 'MD'), ('dictate', 'VB'), ('that', 'IN'), ('governments', 'NNS'), ('long', 'RB'), ('established', 'VBN'), ('should', 'MD'), ('not', 'RB'), ('be', 'VB'), ('changed', 'VBN'), ('for', 'IN'), ('light', 'NN'), ('and', 'CC'), ('transient', 'JJ'), ('causes', 'NNS'), (';', ':'), ('and', 'CC'), ('accordingly', 'RB'), ('all', 'DT'), ('experience', 'NN'), ('hath', 'NN'), ('shewn', 'NN'), ('that', 'IN'), ('mankind', 'NN'), ('are', 'VBP'), ('more', 'RBR'), ('disposed', 'JJ'), ('to', 'TO'), ('suffer', 'VB'), ('while', 'IN'), ('evils', 'NNS'), ('are', 'VBP'), ('sufferable', 'JJ'), ('than', 'IN'), ('to', 'TO'), ('right', 'VB'), ('themselves', 'PRP'), ('by', 'IN'), ('abolishing', 'VBG'), ('the', 'DT'), ('forms', 'NNS'), ('to', 'TO'), ('which', 'WDT'), ('they', 'PRP'), ('are', 'VBP'), ('accustomed', 'VBN'), ('but', 'CC'), ('when', 'WRB'), ('a', 'DT'), ('long', 'JJ'), ('train', 'NN'), ('of', 'IN'), ('abuses', 'NNS'), ('and', 'CC'), ('usurpations', 'NNS'), ('pursuing', 'VBG'), ('invariably', 'RB'), ('the', 'DT'), ('same', 'JJ'), ('object', 'NN'), ('evinces', 'VBZ'), ('a', 'DT'), ('design', 'NN'), ('to', 'TO'), ('reduce', 'VB'), ('them', 'PRP'), ('under', 'IN'), ('absolute', 'NN'), ('despotism', 'NN'), ('it', 'PRP'), ('is', 'VBZ'), ('their', 'PRP$'), ('right', 'JJ'), ('it', 'PRP'), ('is', 'VBZ'), ('their', 'PRP$'), ('duty', 'NN'), ('to', 'TO'), ('throw', 'VB'), ('off', 'RP'), ('such', 'JJ'), ('government', 'NN'), ('and', 'CC'), ('to', 'TO'), ('provide', 'VB'), ('new', 'JJ'), ('guards', 'NNS'), ('for', 'IN'), ('their', 'PRP$'), ('future', 'NN'), ('security.', 'NN'), ('--', ':'), ('such', 'JJ'), ('has', 'VBZ'), ('been', 'VBN'), ('the', 'DT'), ('patient', 'JJ'), ('sufferance', 'NN'), ('of', 'IN'), ('these', 'DT'), ('colonies', 'NNS'), (';', ':'), ('and', 'CC'), ('such', 'JJ'), ('is', 'VBZ'), ('now', 'RB'), ('the', 'DT'), ('necessity', 'NN'), ('which', 'WDT'), ('constrains', 'VBZ'), ('them', 'PRP'), ('to', 'TO'), ('alter', 'VB'), ('their', 'PRP$'), ('former', 'JJ'), ('systems', 'NNS'), ('of', 'IN'), ('government', 'NN'), ('the', 'DT'), ('history', 'NN'), ('of', 'IN'), ('the', 'DT'), ('present', 'JJ'), ('king', 'NN'), ('of', 'IN'), ('great', 'JJ'), ('britain', 'NN'), ('is', 'VBZ'), ('a', 'DT'), ('history', 'NN'), ('of', 'IN'), ('repeated', 'JJ'), ('injuries', 'NNS'), ('and', 'CC'), ('usurpations', 'NNS'), ('all', 'DT'), ('having', 'VBG'), ('in', 'IN'), ('direct', 'JJ'), ('object', 'VBP'), ('the', 'DT'), ('establishment', 'NN'), ('of', 'IN'), ('an', 'DT'), ('absolute', 'JJ'), ('tyranny', 'NN'), ('over', 'IN'), ('these', 'DT'), ('states', 'NNS'), ('to', 'TO'), ('prove', 'VB'), ('this', 'DT'), ('let', 'NN'), ('facts', 'VBZ'), ('be', 'VB'), ('submitted', 'VBN'), ('to', 'TO'), ('a', 'DT'), ('candid', 'JJ'), ('world', 'NN'), ('he', 'PRP'), ('has', 'VBZ'), ('refused', 'VBN'), ('his', 'PRP$'), ('assent', 'NN'), ('to', 'TO'), ('laws', 'NNS'), ('the', 'DT'), ('most', 'RBS'), ('wholesome', 'JJ'), ('and', 'CC'), ('necessary', 'JJ'), ('for', 'IN'), ('the', 'DT'), ('public', 'JJ'), ('good', 'NN'), ('he', 'PRP'), ('has', 'VBZ'), ('forbidden', 'VBN'), ('his', 'PRP$'), ('governors', 'NNS'), ('to', 'TO'), ('pass', 'VB'), ('laws', 'NNS'), ('of', 'IN'), ('immediate', 'JJ'), ('and', 'CC'), ('pressing', 'VBG'), ('importance', 'NN'), ('unless', 'IN'), ('suspended', 'VBN'), ('in', 'IN'), ('their', 'PRP$'), ('operation', 'NN'), ('till', 'IN'), ('his', 'PRP$'), ('assent', 'NN'), ('should', 'MD'), ('be', 'VB'), ('obtained', 'VBN'), (';', ':'), ('and', 'CC'), ('when', 'WRB'), ('so', 'RB'), ('suspended', 'VBD'), ('he', 'PRP'), ('has', 'VBZ'), ('utterly', 'RB'), ('neglected', 'VBN'), ('to', 'TO'), ('attend', 'VB'), ('to', 'TO'), ('them', 'PRP'), ('he', 'PRP'), ('has', 'VBZ'), ('refused', 'VBN'), ('to', 'TO'), ('pass', 'VB'), ('other', 'JJ'), ('laws', 'NNS'), ('for', 'IN'), ('the', 'DT'), ('accommodation', 'NN'), ('of', 'IN'), ('large', 'JJ'), ('districts', 'NNS'), ('of', 'IN'), ('people', 'NNS'), ('unless', 'IN'), ('those', 'DT'), ('people', 'NNS'), ('would', 'MD'), ('relinquish', 'VB'), ('the', 'DT'), ('right', 'NN'), ('of', 'IN'), ('representation', 'NN'), ('in', 'IN'), ('the', 'DT'), ('legislature', 'NN'), ('a', 'DT'), ('right', 'JJ'), ('inestimable', 'NN'), ('to', 'TO'), ('them', 'PRP'), ('and', 'CC'), ('formidable', 'JJ'), ('to', 'TO'), ('tyrants', 'NNS'), ('only', 'RB'), ('he', 'PRP'), ('has', 'VBZ'), ('called', 'VBN'), ('together', 'RB'), ('legislative', 'JJ'), ('bodies', 'NNS'), ('at', 'IN'), ('places', 'NNS'), ('unusual', 'JJ'), ('uncomfortable', 'JJ'), ('and', 'CC'), ('distant', 'JJ'), ('from', 'IN'), ('the', 'DT'), ('depository', 'NN'), ('of', 'IN'), ('their', 'PRP$'), ('public', 'JJ'), ('records', 'NNS'), ('for', 'IN'), ('the', 'DT'), ('sole', 'JJ'), ('purpose', 'NN'), ('of', 'IN'), ('fatiguing', 'VBG'), ('them', 'PRP'), ('into', 'IN'), ('compliance', 'NN'), ('with', 'IN'), ('his', 'PRP$'), ('measures', 'NNS'), ('he', 'PRP'), ('has', 'VBZ'), ('dissolved', 'VBN'), ('representative', 'JJ'), ('houses', 'NNS'), ('repeatedly', 'RB'), ('for', 'IN'), ('opposing', 'VBG'), ('with', 'IN'), ('manly', 'RB'), ('firmness', 'VB'), ('his', 'PRP$'), ('invasions', 'NNS'), ('on', 'IN'), ('the', 'DT'), ('rights', 'NNS'), ('of', 'IN'), ('the', 'DT'), ('people', 'NNS'), ('he', 'PRP'), ('has', 'VBZ'), ('refused', 'VBN'), ('for', 'IN'), ('a', 'DT'), ('long', 'JJ'), ('time', 'NN'), ('after', 'IN'), ('such', 'JJ'), ('dissolutions', 'NNS'), ('to', 'TO'), ('cause', 'VB'), ('others', 'NNS'), ('to', 'TO'), ('be', 'VB'), ('elected', 'VBN'), (';', ':'), ('whereby', 'WRB'), ('the', 'DT'), ('legislative', 'JJ'), ('powers', 'NNS'), ('incapable', 'JJ'), ('of', 'IN'), ('annihilation', 'NN'), ('have', 'VBP'), ('returned', 'VBN'), ('to', 'TO'), ('the', 'DT'), ('people', 'NNS'), ('at', 'IN'), ('large', 'JJ'), ('for', 'IN'), ('their', 'PRP$'), ('exercise', 'NN'), (';', ':'), ('the', 'DT'), ('state', 'NN'), ('remaining', 'VBG'), ('in', 'IN'), ('the', 'DT'), ('mean', 'JJ'), ('time', 'NN'), ('exposed', 'VBN'), ('to', 'TO'), ('all', 'PDT'), ('the', 'DT'), ('dangers', 'NNS'), ('of', 'IN'), ('invasion', 'NN'), ('from', 'IN'), ('without', 'IN'), ('and', 'CC'), ('convulsions', 'NNS'), ('within', 'IN'), ('he', 'PRP'), ('has', 'VBZ'), ('endeavoured', 'VBN'), ('to', 'TO'), ('prevent', 'VB'), ('the', 'DT'), ('population', 'NN'), ('of', 'IN'), ('these', 'DT'), ('states', 'NNS'), (';', ':'), ('for', 'IN'), ('that', 'DT'), ('purpose', 'NN'), ('obstructing', 'VBG'), ('the', 'DT'), ('laws', 'NNS'), ('for', 'IN'), ('naturalization', 'NN'), ('of', 'IN'), ('foreigners', 'NNS'), (';', ':'), ('refusing', 'VBG'), ('to', 'TO'), ('pass', 'VB'), ('others', 'NNS'), ('to', 'TO'), ('encourage', 'VB'), ('their', 'PRP$'), ('migrations', 'NNS'), ('hither', 'RBR'), ('and', 'CC'), ('raising', 'VBG'), ('the', 'DT'), ('conditions', 'NNS'), ('of', 'IN'), ('new', 'JJ'), ('appropriations', 'NNS'), ('of', 'IN'), ('lands', 'NNS'), ('he', 'PRP'), ('has', 'VBZ'), ('obstructed', 'VBN'), ('the', 'DT'), ('administration', 'NN'), ('of', 'IN'), ('justice', 'NN'), ('by', 'IN'), ('refusing', 'VBG'), ('his', 'PRP$'), ('assent', 'NN'), ('to', 'TO'), ('laws', 'NNS'), ('for', 'IN'), ('establishing', 'VBG'), ('judiciary', 'JJ'), ('powers', 'NNS'), ('he', 'PRP'), ('has', 'VBZ'), ('made', 'VBN'), ('judges', 'NNS'), ('dependent', 'VB'), ('on', 'IN'), ('his', 'PRP$'), ('will', 'MD'), ('alone', 'VB'), ('for', 'IN'), ('the', 'DT'), ('tenure', 'NN'), ('of', 'IN'), ('their', 'PRP$'), ('offices', 'NNS'), ('and', 'CC'), ('the', 'DT'), ('amount', 'NN'), ('and', 'CC'), ('payment', 'NN'), ('of', 'IN'), ('their', 'PRP$'), ('salaries', 'NNS'), ('he', 'PRP'), ('has', 'VBZ'), ('erected', 'VBN'), ('a', 'DT'), ('multitude', 'NN'), ('of', 'IN'), ('new', 'JJ'), ('offices', 'NNS'), ('and', 'CC'), ('sent', 'VBD'), ('hither', 'JJR'), ('swarms', 'NNS'), ('of', 'IN'), ('officers', 'NNS'), ('to', 'TO'), ('harrass', 'VB'), ('our', 'PRP$'), ('people', 'NNS'), ('and', 'CC'), ('eat', 'VB'), ('out', 'RP'), ('their', 'PRP$'), ('substance', 'NN'), ('he', 'PRP'), ('has', 'VBZ'), ('kept', 'VBN'), ('among', 'IN'), ('us', 'PRP'), ('in', 'IN'), ('times', 'NNS'), ('of', 'IN'), ('peace', 'NN'), ('standing', 'VBG'), ('armies', 'NNS'), ('without', 'IN'), ('the', 'DT'), ('consent', 'NN'), ('of', 'IN'), ('our', 'PRP$'), ('legislatures', 'NNS'), ('he', 'PRP'), ('has', 'VBZ'), ('affected', 'VBN'), ('to', 'TO'), ('render', 'VB'), ('the', 'DT'), ('military', 'JJ'), ('independent', 'JJ'), ('of', 'IN'), ('and', 'CC'), ('superior', 'JJ'), ('to', 'TO'), ('the', 'DT'), ('civil', 'JJ'), ('power', 'NN'), ('he', 'PRP'), ('has', 'VBZ'), ('combined', 'VBN'), ('with', 'IN'), ('others', 'NNS'), ('to', 'TO'), ('subject', 'VB'), ('us', 'PRP'), ('to', 'TO'), ('a', 'DT'), ('jurisdiction', 'NN'), ('foreign', 'JJ'), ('to', 'TO'), ('our', 'PRP$'), ('constitution', 'NN'), ('and', 'CC'), ('unacknowledged', 'VBN'), ('by', 'IN'), ('our', 'PRP$'), ('laws', 'NNS'), (';', ':'), ('giving', 'VBG'), ('his', 'PRP$'), ('assent', 'NN'), ('to', 'TO'), ('their', 'PRP$'), ('acts', 'NNS'), ('of', 'IN'), ('pretended', 'JJ'), ('legislation', 'NN'), (':', ':'), ('for', 'IN'), ('quartering', 'VBG'), ('large', 'JJ'), ('bodies', 'NNS'), ('of', 'IN'), ('armed', 'JJ'), ('troops', 'NNS'), ('among', 'IN'), ('us', 'PRP'), (':', ':'), ('for', 'IN'), ('protecting', 'VBG'), ('them', 'PRP'), ('by', 'IN'), ('a', 'DT'), ('mock', 'NN'), ('trial', 'NN'), ('from', 'IN'), ('punishment', 'NN'), ('for', 'IN'), ('any', 'DT'), ('murders', 'NNS'), ('which', 'WDT'), ('they', 'PRP'), ('should', 'MD'), ('commit', 'VB'), ('on', 'IN'), ('the', 'DT'), ('inhabitants', 'NNS'), ('of', 'IN'), ('these', 'DT'), ('states', 'NNS'), (':', ':'), ('for', 'IN'), ('cutting', 'VBG'), ('off', 'RP'), ('our', 'PRP$'), ('trade', 'NN'), ('with', 'IN'), ('all', 'DT'), ('parts', 'NNS'), ('of', 'IN'), ('the', 'DT'), ('world', 'NN'), (':', ':'), ('for', 'IN'), ('imposing', 'VBG'), ('taxes', 'NNS'), ('on', 'IN'), ('us', 'PRP'), ('without', 'IN'), ('our', 'PRP$'), ('consent', 'NN'), (':', ':'), ('for', 'IN'), ('depriving', 'VBG'), ('us', 'PRP'), ('in', 'IN'), ('many', 'JJ'), ('cases', 'NNS'), ('of', 'IN'), ('the', 'DT'), ('benefits', 'NNS'), ('of', 'IN'), ('trial', 'NN'), ('by', 'IN'), ('jury', 'NN'), (':', ':'), ('for', 'IN'), ('transporting', 'VBG'), ('us', 'PRP'), ('beyond', 'IN'), ('seas', 'NNS'), ('to', 'TO'), ('be', 'VB'), ('tried', 'VBN'), ('for', 'IN'), ('pretended', 'JJ'), ('offences', 'NNS'), ('for', 'IN'), ('abolishing', 'VBG'), ('the', 'DT'), ('free', 'JJ'), ('system', 'NN'), ('of', 'IN'), ('english', 'JJ'), ('laws', 'NNS'), ('in', 'IN'), ('a', 'DT'), ('neighbouring', 'JJ'), ('province', 'NN'), ('establishing', 'VBG'), ('therein', 'RP'), ('an', 'DT'), ('arbitrary', 'JJ'), ('government', 'NN'), ('and', 'CC'), ('enlarging', 'VBG'), ('its', 'PRP$'), ('boundaries', 'NNS'), ('so', 'RB'), ('as', 'IN'), ('to', 'TO'), ('render', 'VB'), ('it', 'PRP'), ('at', 'IN'), ('once', 'RB'), ('an', 'DT'), ('example', 'NN'), ('and', 'CC'), ('fit', 'JJ'), ('instrument', 'NN'), ('for', 'IN'), ('introducing', 'VBG'), ('the', 'DT'), ('same', 'JJ'), ('absolute', 'NN'), ('rule', 'NN'), ('into', 'IN'), ('these', 'DT'), ('colonies', 'NNS'), (':', ':'), ('for', 'IN'), ('taking', 'VBG'), ('away', 'RB'), ('our', 'PRP$'), ('charters', 'NNS'), ('abolishing', 'VBG'), ('our', 'PRP$'), ('most', 'RBS'), ('valuable', 'JJ'), ('laws', 'NNS'), ('and', 'CC'), ('altering', 'VBG'), ('fundamentally', 'RB'), ('the', 'DT'), ('forms', 'NNS'), ('of', 'IN'), ('our', 'PRP$'), ('governments', 'NNS'), (':', ':'), ('for', 'IN'), ('suspending', 'VBG'), ('our', 'PRP$'), ('own', 'JJ'), ('legislatures', 'NNS'), ('and', 'CC'), ('declaring', 'VBG'), ('themselves', 'PRP'), ('invested', 'VBN'), ('with', 'IN'), ('power', 'NN'), ('to', 'TO'), ('legislate', 'VB'), ('for', 'IN'), ('us', 'PRP'), ('in', 'IN'), ('all', 'DT'), ('cases', 'NNS'), ('whatsoever', 'IN'), ('he', 'PRP'), ('has', 'VBZ'), ('abdicated', 'VBN'), ('government', 'NN'), ('here', 'RB'), ('by', 'IN'), ('declaring', 'VBG'), ('us', 'PRP'), ('out', 'IN'), ('of', 'IN'), ('his', 'PRP$'), ('protection', 'NN'), ('and', 'CC'), ('waging', 'VBG'), ('war', 'NN'), ('against', 'IN'), ('us', 'PRP'), ('he', 'PRP'), ('has', 'VBZ'), ('plundered', 'VBN'), ('our', 'PRP$'), ('seas', 'NNS'), ('ravaged', 'VBD'), ('our', 'PRP$'), ('coasts', 'NNS'), ('burnt', 'VBP'), ('our', 'PRP$'), ('towns', 'NNS'), ('and', 'CC'), ('destroyed', 'VBD'), ('the', 'DT'), ('lives', 'NNS'), ('of', 'IN'), ('our', 'PRP$'), ('people', 'NNS'), ('he', 'PRP'), ('is', 'VBZ'), ('at', 'IN'), ('this', 'DT'), ('time', 'NN'), ('transporting', 'VBG'), ('large', 'JJ'), ('armies', 'NNS'), ('of', 'IN'), ('foreign', 'JJ'), ('mercenaries', 'NNS'), ('to', 'TO'), ('compleat', 'VB'), ('the', 'DT'), ('works', 'NNS'), ('of', 'IN'), ('death', 'NN'), ('desolation', 'NN'), ('and', 'CC'), ('tyranny', 'JJ'), ('already', 'RB'), ('begun', 'VBN'), ('with', 'IN'), ('circumstances', 'NNS'), ('of', 'IN'), ('cruelty', 'NN'), ('&', 'CC'), ('perfidy', 'NN'), ('scarcely', 'RB'), ('paralleled', 'VBN'), ('in', 'IN'), ('the', 'DT'), ('most', 'RBS'), ('barbarous', 'JJ'), ('ages', 'NNS'), ('and', 'CC'), ('totally', 'RB'), ('unworthy', 'JJ'), ('the', 'DT'), ('head', 'NN'), ('of', 'IN'), ('a', 'DT'), ('civilized', 'JJ'), ('nation', 'NN'), ('he', 'PRP'), ('has', 'VBZ'), ('constrained', 'VBN'), ('our', 'PRP$'), ('fellow', 'JJ'), ('citizens', 'NNS'), ('taken', 'VBN'), ('captive', 'JJ'), ('on', 'IN'), ('the', 'DT'), ('high', 'JJ'), ('seas', 'NNS'), ('to', 'TO'), ('bear', 'VB'), ('arms', 'NNS'), ('against', 'IN'), ('their', 'PRP$'), ('country', 'NN'), ('to', 'TO'), ('become', 'VB'), ('the', 'DT'), ('executioners', 'NNS'), ('of', 'IN'), ('their', 'PRP$'), ('friends', 'NNS'), ('and', 'CC'), ('brethren', 'NNS'), ('or', 'CC'), ('to', 'TO'), ('fall', 'VB'), ('themselves', 'PRP'), ('by', 'IN'), ('their', 'PRP$'), ('hands', 'NNS'), ('he', 'PRP'), ('has', 'VBZ'), ('excited', 'VBN'), ('domestic', 'JJ'), ('insurrections', 'NNS'), ('amongst', 'VBP'), ('us', 'PRP'), ('and', 'CC'), ('has', 'VBZ'), ('endeavoured', 'VBN'), ('to', 'TO'), ('bring', 'VB'), ('on', 'IN'), ('the', 'DT'), ('inhabitants', 'NNS'), ('of', 'IN'), ('our', 'PRP$'), ('frontiers', 'NNS'), ('the', 'DT'), ('merciless', 'NN'), ('indian', 'JJ'), ('savages', 'NNS'), ('whose', 'WP$'), ('known', 'JJ'), ('rule', 'NN'), ('of', 'IN'), ('warfare', 'NN'), ('is', 'VBZ'), ('an', 'DT'), ('undistinguished', 'JJ'), ('destruction', 'NN'), ('of', 'IN'), ('all', 'DT'), ('ages', 'NNS'), ('sexes', 'NNS'), ('and', 'CC'), ('conditions', 'NNS'), ('in', 'IN'), ('every', 'DT'), ('stage', 'NN'), ('of', 'IN'), ('these', 'DT'), ('oppressions', 'NNS'), ('we', 'PRP'), ('have', 'VBP'), ('petitioned', 'VBN'), ('for', 'IN'), ('redress', 'NN'), ('in', 'IN'), ('the', 'DT'), ('most', 'RBS'), ('humble', 'JJ'), ('terms', 'NNS'), (':', ':'), ('our', 'PRP$'), ('repeated', 'JJ'), ('petitions', 'NNS'), ('have', 'VBP'), ('been', 'VBN'), ('answered', 'VBN'), ('only', 'RB'), ('by', 'IN'), ('repeated', 'VBN'), ('injury', 'NN'), ('a', 'DT'), ('prince', 'NN'), ('whose', 'WP$'), ('character', 'NN'), ('is', 'VBZ'), ('thus', 'RB'), ('marked', 'VBN'), ('by', 'IN'), ('every', 'DT'), ('act', 'NN'), ('which', 'WDT'), ('may', 'MD'), ('define', 'VB'), ('a', 'DT'), ('tyrant', 'NN'), ('is', 'VBZ'), ('unfit', 'JJ'), ('to', 'TO'), ('be', 'VB'), ('the', 'DT'), ('ruler', 'NN'), ('of', 'IN'), ('a', 'DT'), ('free', 'JJ'), ('people', 'NNS'), ('nor', 'CC'), ('have', 'VBP'), ('we', 'PRP'), ('been', 'VBN'), ('wanting', 'VBG'), ('in', 'IN'), ('attentions', 'NNS'), ('to', 'TO'), ('our', 'PRP$'), ('brittish', 'JJ'), ('brethren', 'NN'), ('we', 'PRP'), ('have', 'VBP'), ('warned', 'VBN'), ('them', 'PRP'), ('from', 'IN'), ('time', 'NN'), ('to', 'TO'), ('time', 'NN'), ('of', 'IN'), ('attempts', 'NNS'), ('by', 'IN'), ('their', 'PRP$'), ('legislature', 'NN'), ('to', 'TO'), ('extend', 'VB'), ('an', 'DT'), ('unwarrantable', 'JJ'), ('jurisdiction', 'NN'), ('over', 'IN'), ('us', 'PRP'), ('we', 'PRP'), ('have', 'VBP'), ('reminded', 'VBN'), ('them', 'PRP'), ('of', 'IN'), ('the', 'DT'), ('circumstances', 'NNS'), ('of', 'IN'), ('our', 'PRP$'), ('emigration', 'NN'), ('and', 'CC'), ('settlement', 'NN'), ('here', 'RB'), ('we', 'PRP'), ('have', 'VBP'), ('appealed', 'VBN'), ('to', 'TO'), ('their', 'PRP$'), ('native', 'JJ'), ('justice', 'NN'), ('and', 'CC'), ('magnanimity', 'NN'), ('and', 'CC'), ('we', 'PRP'), ('have', 'VBP'), ('conjured', 'VBN'), ('them', 'PRP'), ('by', 'IN'), ('the', 'DT'), ('ties', 'NNS'), ('of', 'IN'), ('our', 'PRP$'), ('common', 'JJ'), ('kindred', 'VBN'), ('to', 'TO'), ('disavow', 'VB'), ('these', 'DT'), ('usurpations', 'NNS'), ('which', 'WDT'), ('would', 'MD'), ('inevitably', 'RB'), ('interrupt', 'VB'), ('our', 'PRP$'), ('connections', 'NNS'), ('and', 'CC'), ('correspondence', 'NN'), ('they', 'PRP'), ('too', 'RB'), ('have', 'VBP'), ('been', 'VBN'), ('deaf', 'VBN'), ('to', 'TO'), ('the', 'DT'), ('voice', 'NN'), ('of', 'IN'), ('justice', 'NN'), ('and', 'CC'), ('of', 'IN'), ('consanguinity', 'NN'), ('we', 'PRP'), ('must', 'MD'), ('therefore', 'VB'), ('acquiesce', 'NN'), ('in', 'IN'), ('the', 'DT'), ('necessity', 'NN'), ('which', 'WDT'), ('denounces', 'VBZ'), ('our', 'PRP$'), ('separation', 'NN'), ('and', 'CC'), ('hold', 'VB'), ('them', 'PRP'), ('as', 'IN'), ('we', 'PRP'), ('hold', 'VBP'), ('the', 'DT'), ('rest', 'NN'), ('of', 'IN'), ('mankind', 'NN'), ('enemies', 'NNS'), ('in', 'IN'), ('war', 'NN'), ('in', 'IN'), ('peace', 'NN'), ('friends', 'NNS'), ('we', 'PRP'), ('therefore', 'VBP'), ('the', 'DT'), ('representatives', 'NNS'), ('of', 'IN'), ('the', 'DT'), ('united', 'JJ'), ('states', 'NNS'), ('of', 'IN'), ('america', 'NN'), ('in', 'IN'), ('general', 'JJ'), ('congress', 'NN'), ('assembled', 'VBD'), ('appealing', 'VBG'), ('to', 'TO'), ('the', 'DT'), ('supreme', 'JJ'), ('judge', 'NN'), ('of', 'IN'), ('the', 'DT'), ('world', 'NN'), ('for', 'IN'), ('the', 'DT'), ('rectitude', 'NN'), ('of', 'IN'), ('our', 'PRP$'), ('intentions', 'NNS'), ('do', 'VBP'), ('in', 'IN'), ('the', 'DT'), ('name', 'NN'), ('and', 'CC'), ('by', 'IN'), ('authority', 'NN'), ('of', 'IN'), ('the', 'DT'), ('good', 'JJ'), ('people', 'NNS'), ('of', 'IN'), ('these', 'DT'), ('colonies', 'NNS'), ('solemnly', 'RB'), ('publish', 'JJ'), ('and', 'CC'), ('declare', 'VB'), ('that', 'IN'), ('these', 'DT'), ('united', 'JJ'), ('colonies', 'NNS'), ('are', 'VBP'), ('and', 'CC'), ('of', 'IN'), ('right', 'JJ'), ('ought', 'MD'), ('to', 'TO'), ('be', 'VB'), ('free', 'JJ'), ('and', 'CC'), ('independent', 'JJ'), ('states', 'NNS'), (';', ':'), ('that', 'IN'), ('they', 'PRP'), ('are', 'VBP'), ('absolved', 'VBN'), ('from', 'IN'), ('all', 'DT'), ('allegiance', 'NN'), ('to', 'TO'), ('the', 'DT'), ('british', 'JJ'), ('crown', 'NN'), ('and', 'CC'), ('that', 'IN'), ('all', 'DT'), ('political', 'JJ'), ('connection', 'NN'), ('between', 'IN'), ('them', 'PRP'), ('and', 'CC'), ('the', 'DT'), ('state', 'NN'), ('of', 'IN'), ('great', 'JJ'), ('britain', 'NN'), ('is', 'VBZ'), ('and', 'CC'), ('ought', 'MD'), ('to', 'TO'), ('be', 'VB'), ('totally', 'RB'), ('dissolved', 'VBN'), (';', ':'), ('and', 'CC'), ('that', 'IN'), ('as', 'RB'), ('free', 'JJ'), ('and', 'CC'), ('independent', 'JJ'), ('states', 'NNS'), ('they', 'PRP'), ('have', 'VBP'), ('full', 'JJ'), ('power', 'NN'), ('to', 'TO'), ('levy', 'VB'), ('war', 'NN'), ('conclude', 'NN'), ('peace', 'NN'), ('contract', 'NN'), ('alliances', 'NNS'), ('establish', 'VB'), ('commerce', 'NN'), ('and', 'CC'), ('to', 'TO'), ('do', 'VB'), ('all', 'DT'), ('other', 'JJ'), ('acts', 'NNS'), ('and', 'CC'), ('things', 'NNS'), ('which', 'WDT'), ('independent', 'JJ'), ('states', 'NNS'), ('may', 'MD'), ('of', 'IN'), ('right', 'NN'), ('do', 'NN'), ('and', 'CC'), ('for', 'IN'), ('the', 'DT'), ('support', 'NN'), ('of', 'IN'), ('this', 'DT'), ('declaration', 'NN'), ('with', 'IN'), ('a', 'DT'), ('firm', 'JJ'), ('reliance', 'NN'), ('on', 'IN'), ('the', 'DT'), ('protection', 'NN'), ('of', 'IN'), ('divine', 'JJ'), ('providence', 'NN'), ('we', 'PRP'), ('mutually', 'RB'), ('pledge', 'VBP'), ('to', 'TO'), ('each', 'DT'), ('other', 'JJ'), ('our', 'PRP$'), ('lives', 'NNS'), ('our', 'PRP$'), ('fortunes', 'NNS'), ('and', 'CC'), ('our', 'PRP$'), ('sacred', 'JJ'), ('honor', 'NN')]\n"
     ]
    }
   ],
   "source": [
    "print(nltk.pos_tag(text))"
   ]
  },
  {
   "cell_type": "code",
   "execution_count": 70,
   "metadata": {},
   "outputs": [
    {
     "name": "stdout",
     "output_type": "stream",
     "text": [
      "VBZ: verb, present tense, 3rd person singular\n",
      "    bases reconstructs marks mixes displeases seals carps weaves snatches\n",
      "    slumps stretches authorizes smolders pictures emerges stockpiles\n",
      "    seduces fizzes uses bolsters slaps speaks pleads ...\n"
     ]
    }
   ],
   "source": [
    "nltk.help.upenn_tagset('VBZ')"
   ]
  },
  {
   "cell_type": "code",
   "execution_count": 4,
   "metadata": {},
   "outputs": [
    {
     "name": "stdout",
     "output_type": "stream",
     "text": [
      "[('I', 'PRP'), ('like', 'VBP'), ('to', 'TO'), ('eat', 'VB'), ('pie', 'NN')]\n"
     ]
    }
   ],
   "source": [
    "text = \"\"\n",
    "text = word_tokenize(text)\n",
    "print(nltk.pos_tag(text))"
   ]
  },
  {
   "cell_type": "code",
   "execution_count": 6,
   "metadata": {},
   "outputs": [
    {
     "name": "stdout",
     "output_type": "stream",
     "text": [
      "PRP: pronoun, personal\n",
      "    hers herself him himself hisself it itself me myself one oneself ours\n",
      "    ourselves ownself self she thee theirs them themselves they thou thy us\n"
     ]
    }
   ],
   "source": [
    "nltk.help.upenn_tagset('PRP')"
   ]
  },
  {
   "cell_type": "code",
   "execution_count": null,
   "metadata": {},
   "outputs": [],
   "source": []
  }
 ],
 "metadata": {
  "kernelspec": {
   "display_name": "Python 3 (ipykernel)",
   "language": "python",
   "name": "python3"
  },
  "language_info": {
   "codemirror_mode": {
    "name": "ipython",
    "version": 3
   },
   "file_extension": ".py",
   "mimetype": "text/x-python",
   "name": "python",
   "nbconvert_exporter": "python",
   "pygments_lexer": "ipython3",
   "version": "3.9.13"
  }
 },
 "nbformat": 4,
 "nbformat_minor": 4
}
