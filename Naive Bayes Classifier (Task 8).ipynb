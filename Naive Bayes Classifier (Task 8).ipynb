{
 "cells": [
  {
   "cell_type": "code",
   "execution_count": 277,
   "metadata": {},
   "outputs": [],
   "source": [
    "import pandas as pd\n",
    "import numpy as np\n",
    "import random\n",
    "from nltk.tokenize import word_tokenize\n",
    "from nltk.tokenize import RegexpTokenizer"
   ]
  },
  {
   "cell_type": "code",
   "execution_count": 278,
   "metadata": {},
   "outputs": [],
   "source": [
    "df = pd.read_csv('t_kjv.csv')"
   ]
  },
  {
   "cell_type": "code",
   "execution_count": 279,
   "metadata": {},
   "outputs": [],
   "source": [
    "old_testament = df['t'].values[:23145]\n",
    "new_testament = df['t'].values[23145:]"
   ]
  },
  {
   "cell_type": "code",
   "execution_count": 280,
   "metadata": {},
   "outputs": [],
   "source": [
    "tokenizer = RegexpTokenizer(r'\\w+')\n",
    "old_testament = [(tokenizer.tokenize(i),'old') for i in old_testament][:5000]\n",
    "new_testament = [(tokenizer.tokenize(i), 'new') for i in new_testament][:5000]"
   ]
  },
  {
   "cell_type": "code",
   "execution_count": 281,
   "metadata": {},
   "outputs": [],
   "source": [
    "bible = old_testament + new_testament"
   ]
  },
  {
   "cell_type": "code",
   "execution_count": 282,
   "metadata": {},
   "outputs": [],
   "source": [
    "random.shuffle(bible)"
   ]
  },
  {
   "cell_type": "code",
   "execution_count": 283,
   "metadata": {},
   "outputs": [],
   "source": [
    "text = [tokenizer.tokenize(i) for i in df['t'].values]\n",
    "all_words = [word for sentence in text for word in sentence]"
   ]
  },
  {
   "cell_type": "code",
   "execution_count": 284,
   "metadata": {},
   "outputs": [],
   "source": [
    "all_words = nltk.FreqDist(w for w in all_words)"
   ]
  },
  {
   "cell_type": "code",
   "execution_count": 285,
   "metadata": {},
   "outputs": [],
   "source": [
    "word_features = list(all_words)[:2500]\n",
    "\n",
    "def bible_features(verse):\n",
    "    verse_words = set(verse)\n",
    "    features = {}\n",
    "    for word in word_features:\n",
    "        features['contains({})'.format(word)] = (word in verse_words)\n",
    "    return features"
   ]
  },
  {
   "cell_type": "code",
   "execution_count": 286,
   "metadata": {},
   "outputs": [],
   "source": [
    "data = [(bible_features(verse), tag) for (verse, tag) in bible]\n",
    "train_data = data[:5000]\n",
    "test_data = data[5000:]\n",
    "classifier = nltk.NaiveBayesClassifier.train(train_data)"
   ]
  },
  {
   "cell_type": "code",
   "execution_count": 287,
   "metadata": {},
   "outputs": [
    {
     "name": "stdout",
     "output_type": "stream",
     "text": [
      "0.9298\n"
     ]
    }
   ],
   "source": [
    "print(nltk.classify.accuracy(classifier, test_data))"
   ]
  },
  {
   "cell_type": "code",
   "execution_count": 288,
   "metadata": {},
   "outputs": [
    {
     "name": "stdout",
     "output_type": "stream",
     "text": [
      "Most Informative Features\n",
      "      contains(offering) = True              old : new    =    125.6 : 1.0\n",
      "         contains(Aaron) = True              old : new    =    101.9 : 1.0\n",
      "  contains(congregation) = True              old : new    =     79.5 : 1.0\n",
      "          contains(LORD) = True              old : new    =     49.8 : 1.0\n",
      "    contains(tabernacle) = True              old : new    =     44.9 : 1.0\n",
      "       contains(Pharaoh) = True              old : new    =     35.9 : 1.0\n",
      "         contains(tribe) = True              old : new    =     34.2 : 1.0\n",
      "          contains(Lord) = True              new : old    =     32.9 : 1.0\n",
      "     contains(offerings) = True              old : new    =     32.2 : 1.0\n",
      "     contains(daughters) = True              old : new    =     26.1 : 1.0\n"
     ]
    }
   ],
   "source": [
    "classifier.show_most_informative_features(10)"
   ]
  },
  {
   "cell_type": "code",
   "execution_count": 289,
   "metadata": {},
   "outputs": [],
   "source": [
    "import pandas as pd\n",
    "import numpy as np\n",
    "import random\n",
    "from nltk.tokenize import word_tokenize\n",
    "from nltk.tokenize import RegexpTokenizer"
   ]
  },
  {
   "cell_type": "code",
   "execution_count": 290,
   "metadata": {},
   "outputs": [],
   "source": [
    "df = pd.read_csv('t_kjv.csv')\n",
    "sf = pd.read_csv('bookofmormon.csv')"
   ]
  },
  {
   "cell_type": "code",
   "execution_count": 291,
   "metadata": {},
   "outputs": [],
   "source": [
    "old_testament = df['t'].values[:23145]\n",
    "new_testament = df['t'].values[23145:]\n",
    "book_of_mormon = sf['scripture_text'].values[31102:37706]"
   ]
  },
  {
   "cell_type": "code",
   "execution_count": 292,
   "metadata": {},
   "outputs": [],
   "source": [
    "tokenizer = RegexpTokenizer(r'\\w+')\n",
    "old_testament = [(tokenizer.tokenize(i),'old') for i in old_testament][:2000]\n",
    "new_testament = [(tokenizer.tokenize(i), 'new') for i in new_testament][:2000]\n",
    "book_of_mormon = [(tokenizer.tokenize(i), 'bom') for i in book_of_mormon][:2000]"
   ]
  },
  {
   "cell_type": "code",
   "execution_count": 293,
   "metadata": {},
   "outputs": [],
   "source": [
    "scriptures = old_testament + new_testament + book_of_mormon"
   ]
  },
  {
   "cell_type": "code",
   "execution_count": 294,
   "metadata": {},
   "outputs": [],
   "source": [
    "random.shuffle(scriptures)"
   ]
  },
  {
   "cell_type": "code",
   "execution_count": 295,
   "metadata": {},
   "outputs": [],
   "source": [
    "text = [tokenizer.tokenize(i) for i in df['t'].values]\n",
    "all_words = [word for sentence in text for word in sentence]"
   ]
  },
  {
   "cell_type": "code",
   "execution_count": 296,
   "metadata": {},
   "outputs": [],
   "source": [
    "all_words = nltk.FreqDist(w for w in all_words)"
   ]
  },
  {
   "cell_type": "code",
   "execution_count": 297,
   "metadata": {},
   "outputs": [],
   "source": [
    "word_features = list(all_words)[:2500]\n",
    "\n",
    "def scripture_features(verse):\n",
    "    verse_words = set(verse)\n",
    "    features = {}\n",
    "    for word in word_features:\n",
    "        features['contains({})'.format(word)] = (word in verse_words)\n",
    "    return features"
   ]
  },
  {
   "cell_type": "code",
   "execution_count": 298,
   "metadata": {},
   "outputs": [],
   "source": [
    "data = [(scripture_features(verse), tag) for (verse, tag) in scriptures]\n",
    "train_data = data[:3000]\n",
    "test_data = data[3000:]\n",
    "classifier = nltk.NaiveBayesClassifier.train(train_data)"
   ]
  },
  {
   "cell_type": "code",
   "execution_count": 299,
   "metadata": {},
   "outputs": [
    {
     "name": "stdout",
     "output_type": "stream",
     "text": [
      "0.8723333333333333\n"
     ]
    }
   ],
   "source": [
    "print(nltk.classify.accuracy(classifier, test_data))"
   ]
  },
  {
   "cell_type": "code",
   "execution_count": 300,
   "metadata": {},
   "outputs": [
    {
     "name": "stdout",
     "output_type": "stream",
     "text": [
      "Most Informative Features\n",
      "          contains(LORD) = True              old : new    =     74.1 : 1.0\n",
      "           contains(yea) = True              bom : old    =     61.5 : 1.0\n",
      "         contains(Egypt) = True              old : new    =     54.2 : 1.0\n",
      "     contains(wherefore) = True              bom : new    =     49.8 : 1.0\n",
      "     contains(disciples) = True              new : bom    =     36.2 : 1.0\n",
      "     contains(according) = True              bom : new    =     31.5 : 1.0\n",
      "       contains(kingdom) = True              new : old    =     25.3 : 1.0\n",
      "         contains(Jesus) = True              new : bom    =     22.0 : 1.0\n",
      "     contains(Wherefore) = True              bom : new    =     21.4 : 1.0\n",
      "        contains(things) = True              bom : old    =     20.6 : 1.0\n"
     ]
    }
   ],
   "source": [
    "classifier.show_most_informative_features(10)"
   ]
  },
  {
   "cell_type": "code",
   "execution_count": 301,
   "metadata": {},
   "outputs": [
    {
     "name": "stdout",
     "output_type": "stream",
     "text": [
      "0.5141666666666667\n",
      "Most Informative Features\n",
      "          contains(Then) = True             john : mark   =     23.0 : 1.0\n",
      "          contains(Jews) = True             john : mark   =     18.2 : 1.0\n",
      "          contains(pass) = True             luke : mark   =     11.3 : 1.0\n",
      "         contains(saith) = True             john : luke   =     11.1 : 1.0\n",
      "       contains(kingdom) = True             matt : john   =      8.6 : 1.0\n",
      "          contains(life) = True             john : mark   =      8.6 : 1.0\n",
      "   contains(straightway) = True             mark : luke   =      8.1 : 1.0\n",
      "      contains(departed) = True             luke : mark   =      7.8 : 1.0\n",
      "          contains(know) = True             john : matt   =      7.4 : 1.0\n",
      "         contains(feast) = True             john : mark   =      7.2 : 1.0\n"
     ]
    }
   ],
   "source": [
    "import pandas as pd\n",
    "import numpy as np\n",
    "import random\n",
    "from nltk.tokenize import word_tokenize\n",
    "from nltk.tokenize import RegexpTokenizer\n",
    "df = pd.read_csv('t_kjv.csv')\n",
    "matthew = df['t'].values[23145:24216]\n",
    "mark = df['t'].values[24216:24894]\n",
    "luke = df['t'].values[24894:26045]\n",
    "john = df['t'].values[26045:26924]\n",
    "tokenizer = RegexpTokenizer(r'\\w+')\n",
    "matthew = [(tokenizer.tokenize(i),'matt') for i in matthew][:600]\n",
    "mark = [(tokenizer.tokenize(i), 'mark') for i in mark][:600]\n",
    "luke = [(tokenizer.tokenize(i), 'luke') for i in luke][:600]\n",
    "john = [(tokenizer.tokenize(i), 'john') for i in john][:600]\n",
    "scriptures = matthew + mark + luke + john\n",
    "random.shuffle(scriptures)\n",
    "text = [tokenizer.tokenize(i) for i in df['t'].values]\n",
    "all_words = [word for sentence in text for word in sentence]\n",
    "all_words = nltk.FreqDist(w for w in all_words)\n",
    "word_features = list(all_words)[:2500]\n",
    "\n",
    "def scripture_features(verse):\n",
    "    verse_words = set(verse)\n",
    "    features = {}\n",
    "    for word in word_features:\n",
    "        features['contains({})'.format(word)] = (word in verse_words)\n",
    "    return features\n",
    "data = [(scripture_features(verse), tag) for (verse, tag) in scriptures]\n",
    "train_data = data[:1200]\n",
    "test_data = data[1200:]\n",
    "classifier = nltk.NaiveBayesClassifier.train(train_data)\n",
    "print(nltk.classify.accuracy(classifier, test_data))\n",
    "classifier.show_most_informative_features(10)"
   ]
  },
  {
   "cell_type": "code",
   "execution_count": 273,
   "metadata": {},
   "outputs": [
    {
     "data": {
      "text/plain": [
       "26924"
      ]
     },
     "execution_count": 273,
     "metadata": {},
     "output_type": "execute_result"
    }
   ],
   "source": []
  },
  {
   "cell_type": "code",
   "execution_count": null,
   "metadata": {},
   "outputs": [],
   "source": []
  }
 ],
 "metadata": {
  "kernelspec": {
   "display_name": "Python 3 (ipykernel)",
   "language": "python",
   "name": "python3"
  },
  "language_info": {
   "codemirror_mode": {
    "name": "ipython",
    "version": 3
   },
   "file_extension": ".py",
   "mimetype": "text/x-python",
   "name": "python",
   "nbconvert_exporter": "python",
   "pygments_lexer": "ipython3",
   "version": "3.9.13"
  }
 },
 "nbformat": 4,
 "nbformat_minor": 4
}
