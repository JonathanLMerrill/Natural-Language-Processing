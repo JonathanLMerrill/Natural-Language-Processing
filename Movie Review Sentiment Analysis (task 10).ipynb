{
 "cells": [
  {
   "cell_type": "code",
   "execution_count": 1,
   "metadata": {},
   "outputs": [
    {
     "name": "stderr",
     "output_type": "stream",
     "text": [
      "[nltk_data] Downloading package subjectivity to\n",
      "[nltk_data]     C:\\Users\\rober\\AppData\\Roaming\\nltk_data...\n",
      "[nltk_data]   Unzipping corpora\\subjectivity.zip.\n",
      "[nltk_data] Downloading package punkt to\n",
      "[nltk_data]     C:\\Users\\rober\\AppData\\Roaming\\nltk_data...\n",
      "[nltk_data]   Package punkt is already up-to-date!\n",
      "[nltk_data] Downloading package vader_lexicon to\n",
      "[nltk_data]     C:\\Users\\rober\\AppData\\Roaming\\nltk_data...\n"
     ]
    },
    {
     "data": {
      "text/plain": [
       "True"
      ]
     },
     "execution_count": 1,
     "metadata": {},
     "output_type": "execute_result"
    }
   ],
   "source": [
    "from nltk.classify import NaiveBayesClassifier\n",
    "from nltk.corpus import subjectivity\n",
    "from nltk.sentiment import SentimentAnalyzer\n",
    "from nltk.sentiment.util import *\n",
    "nltk.download('subjectivity')\n",
    "nltk.download('punkt')\n",
    "nltk.download('vader_lexicon')"
   ]
  },
  {
   "cell_type": "code",
   "execution_count": 2,
   "metadata": {},
   "outputs": [],
   "source": [
    "from vaderSentiment.vaderSentiment import SentimentIntensityAnalyzer"
   ]
  },
  {
   "cell_type": "code",
   "execution_count": 3,
   "metadata": {},
   "outputs": [],
   "source": [
    "analyser = SentimentIntensityAnalyzer()"
   ]
  },
  {
   "cell_type": "code",
   "execution_count": 13,
   "metadata": {},
   "outputs": [
    {
     "name": "stdout",
     "output_type": "stream",
     "text": [
      "Reveiew 1 score:  0.9253\n",
      "Reveiew 2 score:  0.8281\n",
      "Reveiew 3 score:  0.7645\n",
      "Reveiew 4 score:  0.7579\n",
      "Reveiew 5 score:  -0.886\n"
     ]
    }
   ],
   "source": [
    "#positive reviews \n",
    "sentence1 = \"Solid adaption. Beautiful scenery, southern gothic charm with an outstanding performance from Daisy Edgar-Jones and Jojo Regina as adult and young Kya. The supporting cast are also game and putting their best foot forward. It’s slow at times and sometimes it teeters close to romance than the other (more interesting) genres that it plays around with. BUT overall, I was hooked lined and sinker with this film.\"\n",
    "sentence2 = \"While I'm usually into action movies, this was an incredible movie with plenty of suspense, romance, and intrigue. It was unique and interesting and beautiful. The so called critics here don't know what they're talking about, and the audience score reflects that.\"\n",
    "sentence3 = \"This is a well crafted movie that takes it's time. It's not a story of chills and thrills, Rather it tells the tale of art and passion. It is also allows the audience to take life seriously and to feel the sorrow of loss and abuse. The natural cinematography is excellent throughout. I thoroughly enjoyed watching and experiencing this drama. You also get to hear Taylor Swift sing at the end. : )\"\n",
    "sentence4 = \"A tender story told with fine production, spot-on performance, with the beauty of nature in a starring role. A morality tale from the high ground with a flourish to ponder. All told, a film worth savoring from start to finish\"\n",
    "sentence5 = \"Expert cinematography, good narration and acting, Numerous emotional moment, Good CGI this movie got it all but what touched me most was Marsh girl she portraits my life to an extent. I've to-myself guy mostly the betrayal, Anthropophobia, bullying, exploiters it hits differently they're binding and social Evils society which this movie shows expectionally well, Worth it\"\n",
    "snt1 = analyser.polarity_scores(sentence1)\n",
    "snt2 = analyser.polarity_scores(sentence2)\n",
    "snt3 = analyser.polarity_scores(sentence3)\n",
    "snt4 = analyser.polarity_scores(sentence4)\n",
    "snt5 = analyser.polarity_scores(sentence5)\n",
    "print(\"Reveiew 1 score: \", snt1['compound'])\n",
    "print(\"Reveiew 2 score: \", snt2['compound'])\n",
    "print(\"Reveiew 3 score: \", snt3['compound'])\n",
    "print(\"Reveiew 4 score: \", snt4['compound'])\n",
    "print(\"Reveiew 5 score: \", snt5['compound'])"
   ]
  },
  {
   "cell_type": "code",
   "execution_count": 15,
   "metadata": {},
   "outputs": [
    {
     "name": "stdout",
     "output_type": "stream",
     "text": [
      "Reveiew 1 score:  {'neg': 0.379, 'neu': 0.583, 'pos': 0.039, 'compound': -0.9432}\n",
      "Reveiew 2 score:  {'neg': 0.192, 'neu': 0.579, 'pos': 0.229, 'compound': 0.4939}\n",
      "Reveiew 3 score:  {'neg': 0.0, 'neu': 0.823, 'pos': 0.177, 'compound': 0.7269}\n",
      "Reveiew 4 score:  {'neg': 0.126, 'neu': 0.704, 'pos': 0.171, 'compound': 0.2023}\n",
      "Reveiew 5 score:  {'neg': 0.0, 'neu': 0.797, 'pos': 0.203, 'compound': 0.7269}\n"
     ]
    }
   ],
   "source": [
    "#negative reviews\n",
    "sentence1 = \"the film tells its tale of abandonment, poverty, abuse, and murder in such a placid manner, smoothing over any possible rough edges, that it is bereft of emotional depth\"\n",
    "sentence2 = \"Boring, at times, with a pieced-together script of confusing flashbacks, the movie doesn’t make the cut when compared the the beloved, best selling book.\"\n",
    "sentence3 = \"Overall, Where the Crawdads Sing lacks the drama, innovation, and pathos needed to make its story work. However, its solid lead performances from Edgar-Jones and Strathairn and its genre-reverential nostalgic charms may be sufficient for audiences.\"\n",
    "sentence4 = \"There’s an apparent lack of enthusiasm in the storytelling in this bland screen adaptation of the best-selling novel. The result is a dull, lifeless movie that is predictable, familiar, and far from challenging.\"\n",
    "sentence5 = \"Apart from gorgeous visuals of the North Carolina bayou and a committed performance by Daisy Edgar-Jones, Where the Crawdads Sing is a muddle through the marsh.\"\n",
    "snt1 = analyser.polarity_scores(sentence1)\n",
    "snt2 = analyser.polarity_scores(sentence2)\n",
    "snt3 = analyser.polarity_scores(sentence3)\n",
    "snt4 = analyser.polarity_scores(sentence4)\n",
    "snt5 = analyser.polarity_scores(sentence5)\n",
    "print(\"Reveiew 1 score: \", snt1)\n",
    "print(\"Reveiew 2 score: \", snt2)\n",
    "print(\"Reveiew 3 score: \", snt3)\n",
    "print(\"Reveiew 4 score: \", snt4)\n",
    "print(\"Reveiew 5 score: \", snt5)"
   ]
  },
  {
   "cell_type": "code",
   "execution_count": 25,
   "metadata": {},
   "outputs": [
    {
     "name": "stdout",
     "output_type": "stream",
     "text": [
      "{'neg': 0.677, 'neu': 0.323, 'pos': 0.0, 'compound': -0.7424}\n"
     ]
    }
   ],
   "source": [
    "sentence = \"that food was terrible! :(\"\n",
    "snt = analyser.polarity_scores(sentence)\n",
    "print(snt)"
   ]
  },
  {
   "cell_type": "code",
   "execution_count": null,
   "metadata": {},
   "outputs": [],
   "source": []
  }
 ],
 "metadata": {
  "kernelspec": {
   "display_name": "Python 3 (ipykernel)",
   "language": "python",
   "name": "python3"
  },
  "language_info": {
   "codemirror_mode": {
    "name": "ipython",
    "version": 3
   },
   "file_extension": ".py",
   "mimetype": "text/x-python",
   "name": "python",
   "nbconvert_exporter": "python",
   "pygments_lexer": "ipython3",
   "version": "3.9.13"
  }
 },
 "nbformat": 4,
 "nbformat_minor": 4
}
