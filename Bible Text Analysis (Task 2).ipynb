{
 "cells": [
  {
   "cell_type": "code",
   "execution_count": 130,
   "metadata": {},
   "outputs": [],
   "source": [
    "import nltk \n",
    "from nltk.tokenize import sent_tokenize\n",
    "from nltk.tokenize import word_tokenize\n",
    "from nltk.probability import FreqDist\n",
    "import pandas as pd\n",
    "import numpy as np\n",
    "from nltk.tokenize import RegexpTokenizer"
   ]
  },
  {
   "cell_type": "code",
   "execution_count": 131,
   "metadata": {},
   "outputs": [],
   "source": [
    "#read in dataframe of bible verses\n",
    "df = pd.read_csv(\"C:/Users/rober/Desktop/t_kjv.csv\")\n",
    "#clean the data\n",
    "df = df.drop(['id','b','c','v'], axis = 1)\n",
    "df = df.rename(columns = {'t' : \"verse\"})\n",
    "df = df.drop(index = 30673)\n",
    "#create a tokenizer\n",
    "tokenizer = RegexpTokenizer(r'\\w+')\n",
    "#create empty lists\n",
    "counter = []\n",
    "worder = []\n",
    "index = []\n",
    "for i in range(len(df.index)):\n",
    "    #tokenize each verse by word\n",
    "    text = df.iloc[i][0]\n",
    "    tokenized_word = tokenizer.tokenize(text)\n",
    "    #find the frequency distibution\n",
    "    fdist = FreqDist(tokenized_word)\n",
    "    #find the most common word\n",
    "    a = fdist.most_common(1)\n",
    "    #find most common word, and how many times that word is in the verse\n",
    "    word = a[0][0]\n",
    "    count = a[0][1]\n",
    "    verse = i\n",
    "    #add to lists\n",
    "    if count >= 10:\n",
    "        counter.append(count)\n",
    "        worder.append(word)\n",
    "        index.append(i)"
   ]
  },
  {
   "cell_type": "code",
   "execution_count": 132,
   "metadata": {},
   "outputs": [],
   "source": [
    "#sort and order those lists\n",
    "sort = list(np.argsort(counter))\n",
    "sort.reverse()\n",
    "C = [counter[i] for i in sort]\n",
    "W = [worder[i] for i in sort]\n",
    "I = [index[i] for i in sort]"
   ]
  },
  {
   "cell_type": "code",
   "execution_count": 133,
   "metadata": {},
   "outputs": [],
   "source": [
    "#create new dataframe with those verses\n",
    "df = df.iloc[I]"
   ]
  },
  {
   "cell_type": "code",
   "execution_count": 134,
   "metadata": {},
   "outputs": [],
   "source": [
    "#add columns for number of words\n",
    "df['most_common_word'] = W\n",
    "df['instances_of_word'] = C"
   ]
  },
  {
   "cell_type": "code",
   "execution_count": 135,
   "metadata": {},
   "outputs": [],
   "source": [
    "#write data to a new csv\n",
    "df.to_csv('C:/Users/rober/Desktop/NLP_Task2.csv', index = False)"
   ]
  },
  {
   "cell_type": "code",
   "execution_count": 136,
   "metadata": {},
   "outputs": [],
   "source": [
    "#read in bible data\n",
    "df = pd.read_csv(\"C:/Users/rober/Desktop/t_kjv.csv\")\n",
    "#clean data\n",
    "df = df.drop(['id','b','c','v'], axis = 1)\n",
    "df = df.drop(index = 30673)\n",
    "#tokenize removing punctuation\n",
    "tokenizer = RegexpTokenizer(r'\\w+')\n",
    "most_common = []\n",
    "counter1 = []\n",
    "counter2 = []\n",
    "worder1 = []\n",
    "worder2 = []\n",
    "index = []\n",
    "\n",
    "for i in range(len(df.index)):\n",
    "    #get text for each verse and tokenize by word\n",
    "    text = df.iloc[i][0]\n",
    "    tokenized_word = tokenizer.tokenize(text)\n",
    "    #get frequency distribution\n",
    "    fdist = FreqDist(tokenized_word)\n",
    "    #find 2 most common words\n",
    "    a = fdist.most_common(2)\n",
    "    #count how many times they are in list\n",
    "    count1 = a[0][1]\n",
    "    count2 = a[1][1]\n",
    "    if count1 >= 8 and count2 >= 8:\n",
    "        #find which word is in the sentence the most\n",
    "        word1 = a[0][0]\n",
    "        word2 = a[1][0]\n",
    "        verse = i\n",
    "        #add to lists\n",
    "        counter1.append(count1)\n",
    "        counter2.append(count2)\n",
    "        worder1.append(word1)\n",
    "        worder2.append(word2)\n",
    "        index.append(i)"
   ]
  },
  {
   "cell_type": "code",
   "execution_count": 137,
   "metadata": {},
   "outputs": [],
   "source": [
    "#create new dataframe with new verses\n",
    "df = df.iloc[index]"
   ]
  },
  {
   "cell_type": "code",
   "execution_count": 138,
   "metadata": {},
   "outputs": [],
   "source": [
    "#add columns to new dataframe for added data\n",
    "df['most_common_word1'] = worder1\n",
    "df['count_for_word1'] = counter1\n",
    "df['most_common_word2'] = worder2\n",
    "df['count_for_word2'] = counter2"
   ]
  },
  {
   "cell_type": "code",
   "execution_count": 139,
   "metadata": {},
   "outputs": [],
   "source": [
    "#write to a new csv\n",
    "df.to_csv('C:/Users/rober/Desktop/NLP_Task2b.csv', index = False)"
   ]
  },
  {
   "cell_type": "code",
   "execution_count": 140,
   "metadata": {},
   "outputs": [
    {
     "name": "stdout",
     "output_type": "stream",
     "text": [
      "52\n"
     ]
    }
   ],
   "source": [
    "print(len(df.index))"
   ]
  },
  {
   "cell_type": "code",
   "execution_count": null,
   "metadata": {},
   "outputs": [],
   "source": []
  }
 ],
 "metadata": {
  "kernelspec": {
   "display_name": "Python 3 (ipykernel)",
   "language": "python",
   "name": "python3"
  },
  "language_info": {
   "codemirror_mode": {
    "name": "ipython",
    "version": 3
   },
   "file_extension": ".py",
   "mimetype": "text/x-python",
   "name": "python",
   "nbconvert_exporter": "python",
   "pygments_lexer": "ipython3",
   "version": "3.9.13"
  }
 },
 "nbformat": 4,
 "nbformat_minor": 4
}
